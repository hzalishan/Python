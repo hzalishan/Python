{
 "cells": [
  {
   "cell_type": "markdown",
   "id": "cb60c4ff",
   "metadata": {},
   "source": [
    "# Conditional Statements in Python: if, elif, else"
   ]
  },
  {
   "cell_type": "markdown",
   "id": "ebfaa0d3",
   "metadata": {},
   "source": [
    "Conditional statements allow you to execute specific blocks of code depending on whether a condition is **True** or **False**.\n",
    "\n",
    "Python provides the following conditional statements:\n",
    "\n",
    "- `if`\n",
    "- `if-else`\n",
    "- `if-elif-else`\n",
    "- Nested `if`\n"
   ]
  },
  {
   "cell_type": "markdown",
   "id": "f337d80e",
   "metadata": {},
   "source": [
    "### Basic if Statement\n",
    "Executes a block of code if the condition is `True`."
   ]
  },
  {
   "cell_type": "code",
   "execution_count": null,
   "id": "f3bf02e0",
   "metadata": {},
   "outputs": [],
   "source": [
    "x = 10\n",
    "\n",
    "if x > 5:\n",
    "    print(\"x is greater than 5\")"
   ]
  },
  {
   "cell_type": "markdown",
   "id": "372a1126",
   "metadata": {},
   "source": [
    "### if-else Statement\n",
    "Executes one block if condition is `True`, another if `False`."
   ]
  },
  {
   "cell_type": "code",
   "execution_count": null,
   "id": "96a3a616",
   "metadata": {},
   "outputs": [],
   "source": [
    "x = 3\n",
    "\n",
    "if x > 5:\n",
    "    print(\"x is greater than 5\")\n",
    "else:\n",
    "    print(\"x is not greater than 5\")"
   ]
  },
  {
   "cell_type": "markdown",
   "id": "1376945d",
   "metadata": {},
   "source": [
    "### if-elif-else Statement\n",
    "Checks multiple conditions one by one."
   ]
  },
  {
   "cell_type": "code",
   "execution_count": null,
   "id": "f7e67862",
   "metadata": {},
   "outputs": [],
   "source": [
    "x = 0\n",
    "\n",
    "if x > 0:\n",
    "    print(\"Positive number\")\n",
    "elif x == 0:\n",
    "    print(\"Zero\")\n",
    "else:\n",
    "    print(\"Negative number\")"
   ]
  },
  {
   "cell_type": "markdown",
   "id": "ad76266a",
   "metadata": {},
   "source": [
    "### Nested if Statements\n",
    "You can place one `if` inside another."
   ]
  },
  {
   "cell_type": "code",
   "execution_count": null,
   "id": "6712aee5",
   "metadata": {},
   "outputs": [],
   "source": [
    "x = 20\n",
    "\n",
    "if x > 10:\n",
    "    print(\"Above 10\")\n",
    "    if x > 15:\n",
    "        print(\"Also above 15\")\n",
    "    else:\n",
    "        print(\"But not above 15\")"
   ]
  },
  {
   "cell_type": "markdown",
   "id": "46cc759d",
   "metadata": {},
   "source": [
    "### Real-Life Example: Checking Voting Eligibility"
   ]
  },
  {
   "cell_type": "code",
   "execution_count": null,
   "id": "48fb3322",
   "metadata": {},
   "outputs": [],
   "source": [
    "age = int(input(\"Enter your age: \"))\n",
    "\n",
    "if age >= 18:\n",
    "    print(\"You are eligible to vote.\")\n",
    "else:\n",
    "    print(\"You are not eligible to vote.\")"
   ]
  },
  {
   "cell_type": "markdown",
   "id": "f26e5296",
   "metadata": {},
   "source": [
    "### Best Practices for Using Conditionals\n",
    "- Keep conditions simple and readable.\n",
    "- Avoid deeply nested conditions when possible.\n",
    "- Use proper indentation (Python uses indentation instead of brackets!).\n",
    "- Test all possible branches (True, False, elif conditions).\n"
   ]
  }
 ],
 "metadata": {},
 "nbformat": 4,
 "nbformat_minor": 5
}
