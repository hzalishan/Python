{
 "cells": [
  {
   "cell_type": "markdown",
   "id": "1e2c6989",
   "metadata": {},
   "source": [
    "# Basics Data Types In Python\n",
    "## Introduction to Data Types\n",
    "In this lecture, we continue our discussion on Python programming, focusing on data types. Previously, we covered variables, and now we will explore data types in detail. The outline includes:\n",
    "\n",
    "- Understanding the importance of data types in programming\n",
    "- Exploring basic data types such as integers, floating point numbers, strings, and booleans\n",
    "- Advancing to complex types like lists, tuples, sets, and dictionaries\n",
    "- Operations and type conversions with practical examples"
   ]
  },
  {
   "cell_type": "markdown",
   "id": "6375aff1",
   "metadata": {},
   "source": [
    "## What Are Data Types?\n",
    "Data types are classifications of data that tell the compiler or interpreter how the programmer intends to use the data. They determine the operations that can be performed on the data, the values the data can take, and the amount of memory needed to store it. Different data types, such as integers and floating point numbers, require different amounts of memory.\n",
    "\n",
    "For example, an integer might use 8 bits, while a floating point number might use 16 bits."
   ]
  },
  {
   "cell_type": "code",
   "execution_count": null,
   "id": "ec472e14",
   "metadata": {},
   "outputs": [],
   "source": []
  },
  {
   "cell_type": "markdown",
   "id": "f3d6c909",
   "metadata": {},
   "source": [
    "## Importance of Data Types in Programming\n",
    "- Data types ensure that data is stored efficiently.\n",
    "- They help perform correct operations on data.\n",
    "- Proper use of data types can prevent errors and bugs in programs.\n",
    "- Memory management is influenced by data types."
   ]
  },
  {
   "cell_type": "markdown",
   "id": "05b119da",
   "metadata": {},
   "source": [
    "## Basic Data Types in Python"
   ]
  },
  {
   "cell_type": "markdown",
   "id": "8df5a02f",
   "metadata": {},
   "source": [
    "### Integer Example"
   ]
  },
  {
   "cell_type": "code",
   "execution_count": null,
   "id": "301c37c6",
   "metadata": {},
   "outputs": [],
   "source": [
    "age = 26\n",
    "print(type(age))"
   ]
  },
  {
   "cell_type": "markdown",
   "id": "4b1b56a9",
   "metadata": {},
   "source": [
    "### Floating Point Number Example"
   ]
  },
  {
   "cell_type": "code",
   "execution_count": null,
   "id": "6ffa63b7",
   "metadata": {},
   "outputs": [],
   "source": [
    "height = 5.44\n",
    "print(height)\n",
    "print(type(height))"
   ]
  },
  {
   "cell_type": "markdown",
   "id": "b023c504",
   "metadata": {},
   "source": [
    "### String Example"
   ]
  },
  {
   "cell_type": "code",
   "execution_count": null,
   "id": "98e48c62",
   "metadata": {},
   "outputs": [],
   "source": [
    "name = \"Ali Shan\"\n",
    "print(name)\n",
    "print(type(name))"
   ]
  },
  {
   "cell_type": "markdown",
   "id": "3f602904",
   "metadata": {},
   "source": [
    "### Boolean Example"
   ]
  },
  {
   "cell_type": "code",
   "execution_count": null,
   "id": "58a241da",
   "metadata": {},
   "outputs": [],
   "source": [
    "is_true = True\n",
    "print(is_true)\n",
    "print(type(is_true))"
   ]
  },
  {
   "cell_type": "code",
   "execution_count": null,
   "id": "415e14ee",
   "metadata": {},
   "outputs": [],
   "source": [
    "a = 10\n",
    "b = 10\n",
    "result = (a == b)\n",
    "print(result)\n",
    "print(type(result))"
   ]
  },
  {
   "cell_type": "markdown",
   "id": "4f8256a0",
   "metadata": {},
   "source": [
    "## Common Errors with Data Types\n",
    "When working with different data types, errors can occur. For example, trying to concatenate a string with an integer without conversion results in a type error."
   ]
  },
  {
   "cell_type": "code",
   "execution_count": null,
   "id": "8de6cb7f",
   "metadata": {},
   "outputs": [],
   "source": [
    "result = \"Hello\" + 5  # This will cause an error"
   ]
  },
  {
   "cell_type": "markdown",
   "id": "2ce692ab",
   "metadata": {},
   "source": [
    "## Fixing Type Errors with Typecasting"
   ]
  },
  {
   "cell_type": "code",
   "execution_count": null,
   "id": "c5538373",
   "metadata": {},
   "outputs": [],
   "source": [
    "result = \"Hello\" + str(5)\n",
    "print(result)"
   ]
  },
  {
   "cell_type": "markdown",
   "id": "339648f8",
   "metadata": {},
   "source": [
    "## String Methods\n",
    "Strings in Python have many built-in methods such as:\n",
    "\n",
    "- `isalnum()`\n",
    "- `casefold()`\n",
    "- `center()`\n",
    "- `count()`\n",
    "\n",
    "These methods provide various functionalities for string manipulation. We will explore these methods in more detail in advanced tutorials."
   ]
  },
  {
   "cell_type": "markdown",
   "id": "b9286c87",
   "metadata": {},
   "source": [
    "## Conclusion\n",
    "We have covered the basics of data types in Python, including integers, floats, strings, and booleans. Understanding these fundamentals is essential before moving on to more complex data types and operations. Patience and practice are key to mastering these concepts."
   ]
  },
  {
   "cell_type": "markdown",
   "id": "7a881a7d",
   "metadata": {},
   "source": [
    "## Key Takeaways\n",
    "- Data types classify data and inform the interpreter how to use and store it efficiently.\n",
    "- Basic Python data types include integers, floating point numbers, strings, and booleans.\n",
    "- Proper use of data types helps prevent errors and manages memory effectively.\n",
    "- Typecasting is essential to convert between data types and avoid type-related errors."
   ]
  }
 ],
 "metadata": {
  "language_info": {
   "name": "python"
  }
 },
 "nbformat": 4,
 "nbformat_minor": 5
}
