{
 "cells": [
  {
   "cell_type": "markdown",
   "id": "5c995961",
   "metadata": {},
   "source": [
    "# Operators in Python\n",
    "## Introduction to Operators in Python\n",
    "In this lecture, we will continue our discussion on Python by deep diving into operators. We will see how Python enables us to perform different operations using various operators.\n",
    "\n",
    "### Outline\n",
    "- Introduction to operators\n",
    "- Arithmetic operators\n",
    "- Comparison operators\n",
    "- Logical operators\n",
    "- Practical examples for each operator"
   ]
  },
  {
   "cell_type": "markdown",
   "id": "1c252610",
   "metadata": {},
   "source": [
    "## Arithmetic Operators\n",
    "Arithmetic operators allow us to perform mathematical operations. Let us create some variables and perform these operations."
   ]
  },
  {
   "cell_type": "code",
   "execution_count": 1,
   "id": "51c20ccd",
   "metadata": {},
   "outputs": [
    {
     "name": "stdout",
     "output_type": "stream",
     "text": [
      "25\n",
      "-5\n",
      "150\n",
      "0.6666666666666666\n",
      "0\n",
      "10\n",
      "1000000000000000\n"
     ]
    }
   ],
   "source": [
    "a = 10\n",
    "b = 15\n",
    "\n",
    "add_result = a + b\n",
    "sub_result = a - b\n",
    "mul_result = a * b\n",
    "div_result = a / b\n",
    "floor_div_result = a // b\n",
    "modulus_result = a % b\n",
    "exponential_result = a ** b\n",
    "\n",
    "print(add_result)\n",
    "print(sub_result)\n",
    "print(mul_result)\n",
    "print(div_result)\n",
    "print(floor_div_result)\n",
    "print(modulus_result)\n",
    "print(exponential_result)"
   ]
  },
  {
   "cell_type": "markdown",
   "id": "c37d648a",
   "metadata": {},
   "source": [
    "### Floor Division Example\n",
    "Let us see the difference between division and floor division."
   ]
  },
  {
   "cell_type": "code",
   "execution_count": 2,
   "id": "a646b0e6",
   "metadata": {},
   "outputs": [
    {
     "name": "stdout",
     "output_type": "stream",
     "text": [
      "4.2\n",
      "4\n"
     ]
    }
   ],
   "source": [
    "print(21 / 5)\n",
    "print(21 // 5)"
   ]
  },
  {
   "cell_type": "markdown",
   "id": "b99405cf",
   "metadata": {},
   "source": [
    "## Comparison Operators\n",
    "Comparison operators are used to compare values. The result of a comparison is always a boolean value: either True or False."
   ]
  },
  {
   "cell_type": "code",
   "execution_count": 3,
   "id": "83dce0cd",
   "metadata": {},
   "outputs": [
    {
     "name": "stdout",
     "output_type": "stream",
     "text": [
      "True\n"
     ]
    }
   ],
   "source": [
    "a = 10\n",
    "b = 10\n",
    "print(a == b)"
   ]
  },
  {
   "cell_type": "code",
   "execution_count": 4,
   "id": "40ab13a9",
   "metadata": {},
   "outputs": [
    {
     "name": "stdout",
     "output_type": "stream",
     "text": [
      "True\n",
      "False\n"
     ]
    }
   ],
   "source": [
    "str1 = \"Crush\"\n",
    "str2 = \"Crush\"\n",
    "print(str1 == str2)\n",
    "\n",
    "str3 = \"crush\"\n",
    "print(str1 == str3)"
   ]
  },
  {
   "cell_type": "code",
   "execution_count": 5,
   "id": "a2393298",
   "metadata": {},
   "outputs": [
    {
     "name": "stdout",
     "output_type": "stream",
     "text": [
      "False\n",
      "True\n"
     ]
    }
   ],
   "source": [
    "print(str1 != str2)\n",
    "print(str3 != str2)"
   ]
  },
  {
   "cell_type": "code",
   "execution_count": 6,
   "id": "868c1666",
   "metadata": {},
   "outputs": [
    {
     "name": "stdout",
     "output_type": "stream",
     "text": [
      "False\n",
      "True\n"
     ]
    }
   ],
   "source": [
    "num1 = 45\n",
    "num2 = 55\n",
    "print(num1 > num2)\n",
    "print(num1 < num2)"
   ]
  },
  {
   "cell_type": "code",
   "execution_count": 7,
   "id": "6116ca26",
   "metadata": {},
   "outputs": [
    {
     "name": "stdout",
     "output_type": "stream",
     "text": [
      "True\n",
      "True\n",
      "True\n"
     ]
    }
   ],
   "source": [
    "num1 = 45\n",
    "num2 = 45\n",
    "print(num1 >= num2)\n",
    "print(num1 <= num2)\n",
    "\n",
    "num1 = 44\n",
    "print(num1 <= num2)"
   ]
  },
  {
   "cell_type": "markdown",
   "id": "6e38eb98",
   "metadata": {},
   "source": [
    "## Logical Operators\n",
    "Logical operators are used to combine conditional statements. The main logical operators are `and`, `or`, and `not`."
   ]
  },
  {
   "cell_type": "code",
   "execution_count": 8,
   "id": "ef1291ba",
   "metadata": {},
   "outputs": [
    {
     "name": "stdout",
     "output_type": "stream",
     "text": [
      "True\n",
      "False\n"
     ]
    }
   ],
   "source": [
    "x = True\n",
    "y = True\n",
    "result = x and y\n",
    "print(result)\n",
    "\n",
    "y = False\n",
    "result = x and y\n",
    "print(result)"
   ]
  },
  {
   "cell_type": "code",
   "execution_count": 9,
   "id": "00503b98",
   "metadata": {},
   "outputs": [
    {
     "name": "stdout",
     "output_type": "stream",
     "text": [
      "True\n",
      "False\n"
     ]
    }
   ],
   "source": [
    "x = True\n",
    "y = False\n",
    "result = x or y\n",
    "print(result)\n",
    "\n",
    "x = False\n",
    "y = False\n",
    "result = x or y\n",
    "print(result)"
   ]
  },
  {
   "cell_type": "code",
   "execution_count": 10,
   "id": "734d3116",
   "metadata": {},
   "outputs": [
    {
     "name": "stdout",
     "output_type": "stream",
     "text": [
      "False\n",
      "True\n"
     ]
    }
   ],
   "source": [
    "x = True\n",
    "print(not x)\n",
    "\n",
    "x = False\n",
    "print(not x)"
   ]
  },
  {
   "cell_type": "markdown",
   "id": "5f6a3502",
   "metadata": {},
   "source": [
    "## Simple Calculator Example\n",
    "Let us implement a simple calculator that takes two numbers as input and performs all arithmetic operations."
   ]
  },
  {
   "cell_type": "code",
   "execution_count": 12,
   "id": "d17111a9",
   "metadata": {},
   "outputs": [
    {
     "name": "stdout",
     "output_type": "stream",
     "text": [
      "Addition: 60.0\n",
      "Subtraction: -10.0\n",
      "Multiplication: 875.0\n",
      "Division: 0.7142857142857143\n",
      "Floor Division: 0.0\n",
      "Modulus: 25.0\n",
      "Exponentiation: 8.470329472543004e+48\n"
     ]
    }
   ],
   "source": [
    "\n",
    "a = float(input(\"Enter first number: \"))\n",
    "b = float(input(\"Enter second number: \"))\n",
    "\n",
    "print(\"Addition:\", a + b)\n",
    "print(\"Subtraction:\", a - b)\n",
    "print(\"Multiplication:\", a * b)\n",
    "print(\"Division:\", a / b)\n",
    "print(\"Floor Division:\", a // b)\n",
    "print(\"Modulus:\", a % b)\n",
    "print(\"Exponentiation:\", a ** b)"
   ]
  },
  {
   "cell_type": "markdown",
   "id": "2935c58f",
   "metadata": {},
   "source": [
    "## Conclusion\n",
    "This concludes our discussion on operators in Python. We have covered arithmetic, comparison, and logical operators with practical examples."
   ]
  },
  {
   "cell_type": "markdown",
   "id": "93971b32",
   "metadata": {},
   "source": [
    "## Key Takeaways\n",
    "- Arithmetic operators in Python include addition, subtraction, multiplication, division, floor division, modulus, and exponentiation.\n",
    "- Comparison operators include equal to, not equal to, greater than, less than, greater than or equal to, and less than or equal to.\n",
    "- Logical operators include `and`, `or`, and `not`, which are used to combine conditional statements.\n",
    "- Practical examples demonstrate the use of these operators, including a simple calculator implementation."
   ]
  }
 ],
 "metadata": {
  "kernelspec": {
   "display_name": "Python 3",
   "language": "python",
   "name": "python3"
  },
  "language_info": {
   "codemirror_mode": {
    "name": "ipython",
    "version": 3
   },
   "file_extension": ".py",
   "mimetype": "text/x-python",
   "name": "python",
   "nbconvert_exporter": "python",
   "pygments_lexer": "ipython3",
   "version": "3.13.3"
  }
 },
 "nbformat": 4,
 "nbformat_minor": 5
}
