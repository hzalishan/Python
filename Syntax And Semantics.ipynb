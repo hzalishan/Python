{
 "cells": [
  {
   "cell_type": "markdown",
   "id": "0768c01a",
   "metadata": {},
   "source": [
    "### Python Syntax and Semantics Overview\n",
    "\n",
    "This session introduces the fundamental concepts of Python syntax and semantics. We will explore how Python code is structured, how meaning is assigned to code, and review practical examples to illustrate these concepts.\n",
    "\n",
    "#### What is Syntax?\n",
    "Syntax in Python refers to the rules that define the correct arrangement of symbols, keywords, and structure in your code. Proper syntax ensures that your code can be parsed and executed by the Python interpreter.\n",
    "\n",
    "#### What is Semantics?\n",
    "Semantics is about the meaning behind your code—the logic and behavior that is executed when your program runs. While syntax is about how you write code, semantics is about what your code does.\n",
    "\n",
    "#### Comments in Python\n",
    "- **Single-line comments**: Use the hash symbol (`#`) to add notes or explanations to your code. These comments are ignored by the interpreter.\n",
    "- **Multi-line comments**: Use triple quotes (`'''` or `\"\"\"`) to write longer comments or documentation strings. These are commonly used in Python files and also work in Jupyter notebooks for docstrings and explanations.\n",
    "\n",
    "Throughout this notebook, we will demonstrate these concepts with code examples and explanations."
   ]
  },
  {
   "cell_type": "code",
   "execution_count": 1,
   "id": "2f440ff7",
   "metadata": {},
   "outputs": [],
   "source": [
    "# This is a single line comment"
   ]
  },
  {
   "cell_type": "code",
   "execution_count": 2,
   "id": "a8c793f7",
   "metadata": {},
   "outputs": [
    {
     "data": {
      "text/plain": [
       "'\\nThis is a multi-line comment.\\nWelcome to the Python course.\\n'"
      ]
     },
     "execution_count": 2,
     "metadata": {},
     "output_type": "execute_result"
    }
   ],
   "source": [
    "\"\"\"\n",
    "This is a multi-line comment.\n",
    "Welcome to the Python course.\n",
    "\"\"\""
   ]
  },
  {
   "cell_type": "markdown",
   "id": "8f0c5157",
   "metadata": {},
   "source": [
    "### Case Sensitivity in Python\n",
    "Python is case sensitive. Variable names with different cases are treated as different identifiers. For example, name and Name are two different variables."
   ]
  },
  {
   "cell_type": "code",
   "execution_count": 3,
   "id": "8b19a926",
   "metadata": {},
   "outputs": [
    {
     "name": "stdout",
     "output_type": "stream",
     "text": [
      "Ghulam\n",
      "Mustafa\n"
     ]
    }
   ],
   "source": [
    "name = \"Ghulam\"\n",
    "Name = \"Mustafa\"\n",
    "print(name)\n",
    "print(Name)"
   ]
  },
  {
   "cell_type": "markdown",
   "id": "ed1b3dbb",
   "metadata": {},
   "source": [
    "### Indentation in Python\n",
    "Indentation is used to define blocks of code in Python. Consistent use of spaces (commonly four spaces or a tab) is required. Indentation determines the structure and hierarchy of the code, unlike other languages that use braces to delimit blocks."
   ]
  },
  {
   "cell_type": "code",
   "execution_count": 4,
   "id": "82fe6bfb",
   "metadata": {},
   "outputs": [
    {
     "name": "stdout",
     "output_type": "stream",
     "text": [
      "32\n",
      "32\n"
     ]
    }
   ],
   "source": [
    "age = 32\n",
    "if age > 30:\n",
    "    print(age)\n",
    "print(age)"
   ]
  },
  {
   "cell_type": "markdown",
   "id": "b878e64a",
   "metadata": {},
   "source": [
    "### Line Continuation in Python\n",
    "If a line of code becomes too long, you can use a backslash (\\) to continue the statement on the next line."
   ]
  },
  {
   "cell_type": "code",
   "execution_count": 5,
   "id": "68a2a187",
   "metadata": {},
   "outputs": [
    {
     "name": "stdout",
     "output_type": "stream",
     "text": [
      "55\n"
     ]
    }
   ],
   "source": [
    "total = 1 + 2 + 3 + 4 + 5 + 6 + 7 + \\\n",
    "    8 + 9 + 10\n",
    "print(total)"
   ]
  },
  {
   "cell_type": "markdown",
   "id": "72f5b346",
   "metadata": {},
   "source": [
    "### Multiple Statements on a Single Line\n",
    "You can write multiple statements on a single line by separating them with semicolons."
   ]
  },
  {
   "cell_type": "code",
   "execution_count": 6,
   "id": "90187fe4",
   "metadata": {},
   "outputs": [
    {
     "name": "stdout",
     "output_type": "stream",
     "text": [
      "15\n"
     ]
    }
   ],
   "source": [
    "x = 5; y = 10; z = x + y\n",
    "print(z)"
   ]
  },
  {
   "cell_type": "markdown",
   "id": "87ea155c",
   "metadata": {},
   "source": [
    "### Understanding Semantics in Python\n",
    "Variable assignment in Python does not require explicit type declaration. The type is inferred at runtime. For example, assigning an integer or a string to a variable will automatically set its type."
   ]
  },
  {
   "cell_type": "code",
   "execution_count": 7,
   "id": "74f0b5ad",
   "metadata": {},
   "outputs": [
    {
     "name": "stdout",
     "output_type": "stream",
     "text": [
      "<class 'int'>\n",
      "<class 'str'>\n"
     ]
    }
   ],
   "source": [
    "age = 19\n",
    "name = \"Ghulam Mustafa\"\n",
    "print(type(age))\n",
    "print(type(name))"
   ]
  },
  {
   "cell_type": "markdown",
   "id": "0786b94f",
   "metadata": {},
   "source": [
    "### Type Inference and Dynamic Typing\n",
    "Python infers the type of a variable at runtime, allowing dynamic typing. The type of a variable can change as new values are assigned."
   ]
  },
  {
   "cell_type": "code",
   "execution_count": 8,
   "id": "d4a37912",
   "metadata": {},
   "outputs": [
    {
     "name": "stdout",
     "output_type": "stream",
     "text": [
      "<class 'int'>\n",
      "<class 'str'>\n"
     ]
    }
   ],
   "source": [
    "variable = 19\n",
    "print(type(variable))\n",
    "variable = \"Ghulam Mustafa\"\n",
    "print(type(variable))"
   ]
  },
  {
   "cell_type": "markdown",
   "id": "3cea62fe",
   "metadata": {},
   "source": [
    "### Indentation Errors in Python\n",
    "If indentation is not used correctly, Python will raise an indentation error. For example, if you do not indent the code inside an if block, you will get an error."
   ]
  },
  {
   "cell_type": "code",
   "execution_count": 9,
   "id": "f8c2f88d",
   "metadata": {},
   "outputs": [
    {
     "ename": "IndentationError",
     "evalue": "expected an indented block after 'if' statement on line 2 (954429144.py, line 3)",
     "output_type": "error",
     "traceback": [
      "\u001b[1;36m  Cell \u001b[1;32mIn[9], line 3\u001b[1;36m\u001b[0m\n\u001b[1;33m    print(age)  # This will raise an indentation error\u001b[0m\n\u001b[1;37m    ^\u001b[0m\n\u001b[1;31mIndentationError\u001b[0m\u001b[1;31m:\u001b[0m expected an indented block after 'if' statement on line 2\n"
     ]
    }
   ],
   "source": [
    "age = 32\n",
    "if age > 30:\n",
    "print(age)  # This will raise an indentation error"
   ]
  },
  {
   "cell_type": "markdown",
   "id": "d7fb3e24",
   "metadata": {},
   "source": [
    "### Name Errors in Python\n",
    "If you use a variable that has not been defined, Python will raise a name error."
   ]
  },
  {
   "cell_type": "code",
   "execution_count": 10,
   "id": "093b31f0",
   "metadata": {},
   "outputs": [
    {
     "ename": "NameError",
     "evalue": "name 'b' is not defined",
     "output_type": "error",
     "traceback": [
      "\u001b[1;31m---------------------------------------------------------------------------\u001b[0m",
      "\u001b[1;31mNameError\u001b[0m                                 Traceback (most recent call last)",
      "Cell \u001b[1;32mIn[10], line 1\u001b[0m\n\u001b[1;32m----> 1\u001b[0m a \u001b[38;5;241m=\u001b[39m b\n",
      "\u001b[1;31mNameError\u001b[0m: name 'b' is not defined"
     ]
    }
   ],
   "source": [
    "a = b  # NameError: name 'b' is not defined"
   ]
  },
  {
   "cell_type": "markdown",
   "id": "11fb0491",
   "metadata": {},
   "source": [
    "### Example: Nested Indentation\n",
    "Here is an example demonstrating correct indentation and nested blocks in Python."
   ]
  },
  {
   "cell_type": "code",
   "execution_count": 11,
   "id": "5851ece8",
   "metadata": {},
   "outputs": [
    {
     "name": "stdout",
     "output_type": "stream",
     "text": [
      "This is my correct indentation\n",
      "This will print\n",
      "Outside the if block\n"
     ]
    }
   ],
   "source": [
    "if True:\n",
    "    print(\"This is my correct indentation\")\n",
    "    if False:\n",
    "        print(\"This will not print\")\n",
    "    print(\"This will print\")\n",
    "print(\"Outside the if block\")"
   ]
  },
  {
   "cell_type": "markdown",
   "id": "fa94371e",
   "metadata": {},
   "source": [
    "### Conclusion\n",
    "In this session, we covered single-line and multi-line comments, definitions of syntax and semantics, basic syntax rules, variable assignment, case sensitivity, indentation, line continuation, multiple statements on a single line, type inference, and common syntax errors. This provides a foundational understanding of Python's syntax and semantics.\n",
    "\n",
    "### Key Takeaways\n",
    "Syntax in Python refers to the correct arrangement of words and symbols, while semantics refers to the meaning and interpretation of code.\n",
    "Python is case sensitive, and variable names with different cases are treated as different identifiers.\n",
    "Indentation is crucial in Python to define code blocks, replacing the need for braces used in other languages.\n",
    "Python supports single-line and multi-line comments, line continuation with backslash, and allows multiple statements on a single line using semicolons."
   ]
  },
  {
   "cell_type": "code",
   "execution_count": null,
   "id": "34fe3f58",
   "metadata": {},
   "outputs": [],
   "source": []
  }
 ],
 "metadata": {
  "kernelspec": {
   "display_name": "base",
   "language": "python",
   "name": "python3"
  },
  "language_info": {
   "codemirror_mode": {
    "name": "ipython",
    "version": 3
   },
   "file_extension": ".py",
   "mimetype": "text/x-python",
   "name": "python",
   "nbconvert_exporter": "python",
   "pygments_lexer": "ipython3",
   "version": "3.12.7"
  }
 },
 "nbformat": 4,
 "nbformat_minor": 5
}
