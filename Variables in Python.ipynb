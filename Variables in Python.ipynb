{
 "cells": [
  {
   "cell_type": "markdown",
   "id": "40ca0ee7",
   "metadata": {},
   "source": [
    "# Variables in Python: Declaration, Naming, Types, and Input\n",
    "## Introduction to Variables in Python\n",
    "In this video, we are going to discuss variables in Python. The outline includes an introduction to variables, declaring and assigning variables, naming conventions, variable types, type checking and conversion, dynamic typing, practical examples, and common errors.\n",
    "\n",
    "## What are Variables?\n",
    "Variables are fundamental elements in programming used to store data that can be referenced and manipulated in a program. In Python, variables are created when you assign a value to them, and they do not need explicit declaration to reserve memory space. The declaration happens automatically when you assign a value to a variable.\n",
    "\n",
    "## Example of Variable Assignment\n",
    "If you define a as 100, this becomes the variable. Whenever you start a new notebook file, always make sure to select the kernel. If you write a = 100, this means you have created a variable a and assigned it the value 100."
   ]
  },
  {
   "cell_type": "code",
   "execution_count": 1,
   "id": "84f9cd8d",
   "metadata": {},
   "outputs": [],
   "source": [
    "a = 100"
   ]
  },
  {
   "cell_type": "markdown",
   "id": "18ddeb6f",
   "metadata": {},
   "source": [
    "### Declaring and Assigning Variables\n",
    "You can define variables such as age = 19, height = 5.9, name = 'Ghulam Mustafa', and a boolean variable like is_student = True. These are examples of assigning different types of values to variables."
   ]
  },
  {
   "cell_type": "code",
   "execution_count": 2,
   "id": "ded3dc59",
   "metadata": {},
   "outputs": [],
   "source": [
    "age = 19\n",
    "height = 5.9\n",
    "name = 'Ghulam Mustafa'\n",
    "is_student = True"
   ]
  },
  {
   "cell_type": "markdown",
   "id": "f7b5054e",
   "metadata": {},
   "source": [
    "### Printing Variables\n",
    "You can print variables to display their values in the console. For example, printing age, height, and name will show their assigned values."
   ]
  },
  {
   "cell_type": "code",
   "execution_count": 3,
   "id": "91206fdc",
   "metadata": {},
   "outputs": [
    {
     "name": "stdout",
     "output_type": "stream",
     "text": [
      "Age: 19\n",
      "Height: 5.9\n",
      "Name: Ghulam Mustafa\n"
     ]
    }
   ],
   "source": [
    "print('Age:', age)\n",
    "print('Height:', height)\n",
    "print('Name:', name)"
   ]
  },
  {
   "cell_type": "markdown",
   "id": "1026951f",
   "metadata": {},
   "source": [
    "### Naming Conventions for Variables\n",
    "Naming conventions are important when defining variables. Here are some key points:\n",
    "\n",
    "### Variable names should be descriptive.\n",
    "They must always start with a letter or an underscore (_).\n",
    "They can contain letters, numbers, and underscores in between.\n",
    "Variable names are case sensitive.\n",
    "Valid Variable Names\n",
    "Examples of valid variable names include first_name = 'Ghulam' and last_name = 'Mustafa'. These start with a letter and contain letters or underscores."
   ]
  },
  {
   "cell_type": "code",
   "execution_count": 4,
   "id": "6f6ad2c1",
   "metadata": {},
   "outputs": [],
   "source": [
    "first_name = 'Ghulam'\n",
    "last_name = 'Mustafa'"
   ]
  },
  {
   "cell_type": "markdown",
   "id": "a417ca4e",
   "metadata": {},
   "source": [
    "### Invalid Variable Names\n",
    "Examples of invalid variable names:\n",
    "\n",
    "Starting with a number, such as 1age = 30.\n",
    "Using a dash, such as first-name = 'Krish'.\n",
    "Using special characters, such as @name = 'Krish'.\n",
    "These will result in syntax errors."
   ]
  },
  {
   "cell_type": "code",
   "execution_count": 6,
   "id": "139f8f2b",
   "metadata": {},
   "outputs": [],
   "source": [
    "# 1age = 30  # Invalid\n",
    "# first-name = 'Ghulam'  # Invalid\n",
    "# @name = 'Ghulam mustafa'  # Invalid"
   ]
  },
  {
   "cell_type": "markdown",
   "id": "8f220ef4",
   "metadata": {},
   "source": [
    "### Case Sensitivity\n",
    "Variable names are case sensitive. For example, name = 'Ghulam' and Name = 'Mustafa' are two different variables."
   ]
  },
  {
   "cell_type": "code",
   "execution_count": 7,
   "id": "48456f23",
   "metadata": {},
   "outputs": [
    {
     "name": "stdout",
     "output_type": "stream",
     "text": [
      "False\n"
     ]
    }
   ],
   "source": [
    "name = 'Ghulam'\n",
    "Name = 'Mustafa'\n",
    "print(name == Name)  # Outputs: False"
   ]
  },
  {
   "cell_type": "markdown",
   "id": "8b2f0c07",
   "metadata": {},
   "source": [
    "### Understanding Variable Types\n",
    "Python is dynamically typed. This means the type of a variable is determined at runtime. Important data types include int, float, str, and bool."
   ]
  },
  {
   "cell_type": "code",
   "execution_count": 8,
   "id": "f90a579a",
   "metadata": {},
   "outputs": [],
   "source": [
    "age = 19  # int\n",
    "height = 5.9  # float\n",
    "name = 'Ghulam Mustafa'  # str\n",
    "is_student = True  # bool"
   ]
  },
  {
   "cell_type": "markdown",
   "id": "f076a169",
   "metadata": {},
   "source": [
    "### Type Checking\n",
    "You can check the type of a variable using the type() function."
   ]
  },
  {
   "cell_type": "code",
   "execution_count": 9,
   "id": "0c3b028a",
   "metadata": {},
   "outputs": [
    {
     "name": "stdout",
     "output_type": "stream",
     "text": [
      "<class 'int'>\n",
      "<class 'str'>\n"
     ]
    }
   ],
   "source": [
    "print(type(age))  # <class 'int'>\n",
    "print(type(name))  # <class 'str'>"
   ]
  },
  {
   "cell_type": "markdown",
   "id": "6f7039fc",
   "metadata": {},
   "source": [
    "### Type Checking and Conversion\n",
    "Type checking is done using the type() function. Type conversion allows you to convert one data type to another using functions like str(), int(), and float()."
   ]
  },
  {
   "cell_type": "code",
   "execution_count": 10,
   "id": "0ee44231",
   "metadata": {},
   "outputs": [
    {
     "name": "stdout",
     "output_type": "stream",
     "text": [
      "<class 'int'>\n",
      "19\n",
      "<class 'str'>\n"
     ]
    }
   ],
   "source": [
    "age = 19\n",
    "print(type(age))  # <class 'int'>\n",
    "age_str = str(age)\n",
    "print(age_str)  # '25'\n",
    "print(type(age_str))  # <class 'str'>"
   ]
  },
  {
   "cell_type": "markdown",
   "id": "efa31ead",
   "metadata": {},
   "source": [
    "### Converting Between Types\n",
    "You can convert a string that represents a number to an integer using int(). However, converting a non-numeric string to an integer will result in an error."
   ]
  },
  {
   "cell_type": "code",
   "execution_count": 11,
   "id": "f74e4d6a",
   "metadata": {},
   "outputs": [
    {
     "name": "stdout",
     "output_type": "stream",
     "text": [
      "<class 'int'>\n"
     ]
    }
   ],
   "source": [
    "age = '19'\n",
    "print(type(int(age)))  # <class 'int'>\n",
    "\n",
    "name = 'Ghulam Mustafa'\n",
    "# int(name)  # This will raise a ValueError"
   ]
  },
  {
   "cell_type": "markdown",
   "id": "d8b4d711",
   "metadata": {},
   "source": [
    "### Float and Integer Conversion\n",
    "A float can be converted to an integer, which removes the decimal part. You can also convert an integer to a float."
   ]
  },
  {
   "cell_type": "code",
   "execution_count": 12,
   "id": "1831d89c",
   "metadata": {},
   "outputs": [
    {
     "name": "stdout",
     "output_type": "stream",
     "text": [
      "5\n",
      "5.0\n"
     ]
    }
   ],
   "source": [
    "height = 5.9\n",
    "print(int(height))  # 5\n",
    "print(float(int(height)))  # 5.0"
   ]
  },
  {
   "cell_type": "markdown",
   "id": "22717e04",
   "metadata": {},
   "source": [
    "### Dynamic Typing in Python\n",
    "Python allows the type of a variable to change as the program executes. For example, a variable can be assigned an integer, then a string, then a float."
   ]
  },
  {
   "cell_type": "code",
   "execution_count": 13,
   "id": "e9741942",
   "metadata": {},
   "outputs": [
    {
     "name": "stdout",
     "output_type": "stream",
     "text": [
      "10 <class 'int'>\n",
      "hello <class 'str'>\n",
      "3.14 <class 'float'>\n"
     ]
    }
   ],
   "source": [
    "var = 10\n",
    "print(var, type(var))  # 10 <class 'int'>\n",
    "var = 'hello'\n",
    "print(var, type(var))  # 'hello' <class 'str'>\n",
    "var = 3.14\n",
    "print(var, type(var))  # 3.14 <class 'float'>"
   ]
  },
  {
   "cell_type": "markdown",
   "id": "0f5e772e",
   "metadata": {},
   "source": [
    "### The Input Function\n",
    "The input() function allows the user to provide input. By default, the input is received as a string. You can convert it to another type as needed."
   ]
  },
  {
   "cell_type": "code",
   "execution_count": 14,
   "id": "dcb91213",
   "metadata": {},
   "outputs": [
    {
     "name": "stdout",
     "output_type": "stream",
     "text": [
      "25\n",
      "<class 'str'>\n",
      "<class 'int'>\n"
     ]
    }
   ],
   "source": [
    "age = input('What is your age? ')\n",
    "print(age)\n",
    "print(type(age))  # <class 'str'>\n",
    "\n",
    "# To convert to int\n",
    "typed_age = int(input('What is your age? '))\n",
    "print(type(typed_age))  # <class 'int'>"
   ]
  },
  {
   "cell_type": "markdown",
   "id": "b6d12a67",
   "metadata": {},
   "source": [
    "### Simple Calculator Example\n",
    "Let us create a simple calculator using the concepts discussed. The calculator will take two numbers as input and display their sum, difference, product, and quotient.\n",
    "\n"
   ]
  },
  {
   "cell_type": "code",
   "execution_count": 16,
   "id": "5b228118",
   "metadata": {},
   "outputs": [
    {
     "name": "stdout",
     "output_type": "stream",
     "text": [
      "Sum: 45\n",
      "Difference: -5\n",
      "Product: 500\n",
      "Quotient: 0.8\n"
     ]
    }
   ],
   "source": [
    "num1 = int(input('Enter first number: '))\n",
    "num2 = int(input('Enter second number: '))\n",
    "sum_ = num1 + num2\n",
    "difference = num1 - num2\n",
    "product = num1 * num2\n",
    "quotient = num1 / num2\n",
    "print('Sum:', sum_)\n",
    "print('Difference:', difference)\n",
    "print('Product:', product)\n",
    "print('Quotient:', quotient)"
   ]
  },
  {
   "cell_type": "markdown",
   "id": "0593ecdf",
   "metadata": {},
   "source": [
    "### Conclusion\n",
    "In this lesson, we have covered variables in Python, including declaration, assignment, naming conventions, types, type checking, type conversion, dynamic typing, and user input. In the next video, we will discuss more about data types and operators.\n",
    "\n",
    "### Key Takeaways\n",
    "Variables in Python are created by assignment and do not require explicit declaration.\n",
    "Variable names must start with a letter or underscore, are case sensitive, and can contain letters, numbers, and underscores.\n",
    "Python is dynamically typed, allowing variable types to change at runtime.\n",
    "Type checking and conversion can be performed using built-in functions like type(), str(), int(), and float().\n",
    "The input() function always returns a string, which can be typecast as needed."
   ]
  }
 ],
 "metadata": {
  "kernelspec": {
   "display_name": "base",
   "language": "python",
   "name": "python3"
  },
  "language_info": {
   "codemirror_mode": {
    "name": "ipython",
    "version": 3
   },
   "file_extension": ".py",
   "mimetype": "text/x-python",
   "name": "python",
   "nbconvert_exporter": "python",
   "pygments_lexer": "ipython3",
   "version": "3.12.7"
  }
 },
 "nbformat": 4,
 "nbformat_minor": 5
}
