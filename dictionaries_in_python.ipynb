{
 "cells": [
  {
   "cell_type": "markdown",
   "id": "68dab512",
   "metadata": {},
   "source": [
    "# Dictionaries in Python\n",
    "\n",
    "In this notebook, we will learn about **Dictionaries** in Python.  \n",
    "Dictionaries are collections of **key-value pairs**. They are **unordered, mutable, and do not allow duplicate keys**.\n"
   ]
  },
  {
   "cell_type": "markdown",
   "id": "57ac78d3",
   "metadata": {},
   "source": [
    "## 1. What is a Dictionary?\n",
    "- A dictionary stores data in **key-value pairs**.\n",
    "- Keys must be **unique** and **immutable** (e.g., strings, numbers, tuples).\n",
    "- Values can be of any data type."
   ]
  },
  {
   "cell_type": "code",
   "execution_count": 1,
   "id": "80bd30f3",
   "metadata": {},
   "outputs": [
    {
     "name": "stdout",
     "output_type": "stream",
     "text": [
      "Dictionary: {'name': 'Ali', 'age': 21, 'city': 'Lahore'}\n"
     ]
    }
   ],
   "source": [
    "# Example: Creating a dictionary\n",
    "student = {\n",
    "    \"name\": \"Ali\",\n",
    "    \"age\": 21,\n",
    "    \"city\": \"Lahore\"\n",
    "}\n",
    "print(\"Dictionary:\", student)"
   ]
  },
  {
   "cell_type": "markdown",
   "id": "00c2260e",
   "metadata": {},
   "source": [
    "## 2. Accessing Values\n",
    "We can access values using keys."
   ]
  },
  {
   "cell_type": "code",
   "execution_count": 2,
   "id": "61c46a6e",
   "metadata": {},
   "outputs": [
    {
     "name": "stdout",
     "output_type": "stream",
     "text": [
      "Name: Ali\n",
      "Age: 21\n",
      "City: Lahore\n",
      "Country (with default): Pakistan\n"
     ]
    }
   ],
   "source": [
    "student = {\"name\": \"Ali\", \"age\": 21, \"city\": \"Lahore\"}\n",
    "print(\"Name:\", student[\"name\"])\n",
    "print(\"Age:\", student[\"age\"])\n",
    "\n",
    "# Using get() method (avoids error if key is missing)\n",
    "print(\"City:\", student.get(\"city\"))\n",
    "print(\"Country (with default):\", student.get(\"country\", \"Pakistan\"))"
   ]
  },
  {
   "cell_type": "markdown",
   "id": "05e68a68",
   "metadata": {},
   "source": [
    "## 3. Modifying Dictionaries"
   ]
  },
  {
   "cell_type": "code",
   "execution_count": 3,
   "id": "949d23eb",
   "metadata": {},
   "outputs": [
    {
     "name": "stdout",
     "output_type": "stream",
     "text": [
      "After adding grade: {'name': 'Ali', 'age': 21, 'city': 'Lahore', 'grade': 'A'}\n",
      "After modifying age: {'name': 'Ali', 'age': 22, 'city': 'Lahore', 'grade': 'A'}\n",
      "After pop: {'name': 'Ali', 'age': 22, 'grade': 'A'}\n",
      "Before popitem: {'name': 'Ali', 'age': 22, 'grade': 'A', 'country': 'Pakistan'}\n",
      "After popitem: {'name': 'Ali', 'age': 22, 'grade': 'A'}\n",
      "After clear: {}\n"
     ]
    }
   ],
   "source": [
    "student = {\"name\": \"Ali\", \"age\": 21, \"city\": \"Lahore\"}\n",
    "\n",
    "# Adding a new key-value pair\n",
    "student[\"grade\"] = \"A\"\n",
    "print(\"After adding grade:\", student)\n",
    "\n",
    "# Modifying an existing value\n",
    "student[\"age\"] = 22\n",
    "print(\"After modifying age:\", student)\n",
    "\n",
    "# Removing a key-value pair\n",
    "student.pop(\"city\")\n",
    "print(\"After pop:\", student)\n",
    "\n",
    "# Removing last inserted item\n",
    "student[\"country\"] = \"Pakistan\"\n",
    "print(\"Before popitem:\", student)\n",
    "student.popitem()\n",
    "print(\"After popitem:\", student)\n",
    "\n",
    "# Clear dictionary\n",
    "student.clear()\n",
    "print(\"After clear:\", student)"
   ]
  },
  {
   "cell_type": "markdown",
   "id": "f661d888",
   "metadata": {},
   "source": [
    "## 4. Useful Dictionary Functions and Methods"
   ]
  },
  {
   "cell_type": "code",
   "execution_count": 4,
   "id": "df8c7bd2",
   "metadata": {},
   "outputs": [
    {
     "name": "stdout",
     "output_type": "stream",
     "text": [
      "Keys: dict_keys(['name', 'age', 'city'])\n",
      "Values: dict_values(['Ali', 21, 'Lahore'])\n",
      "Items: dict_items([('name', 'Ali'), ('age', 21), ('city', 'Lahore')])\n",
      "name: Ali\n",
      "age: 21\n",
      "city: Lahore\n"
     ]
    }
   ],
   "source": [
    "student = {\"name\": \"Ali\", \"age\": 21, \"city\": \"Lahore\"}\n",
    "\n",
    "print(\"Keys:\", student.keys())\n",
    "print(\"Values:\", student.values())\n",
    "print(\"Items:\", student.items())\n",
    "\n",
    "# Looping through dictionary\n",
    "for key, value in student.items():\n",
    "    print(f\"{key}: {value}\")"
   ]
  },
  {
   "cell_type": "markdown",
   "id": "1866f325",
   "metadata": {},
   "source": [
    "## 5. Dictionary Comprehension\n",
    "We can create dictionaries using comprehension."
   ]
  },
  {
   "cell_type": "code",
   "execution_count": 5,
   "id": "dc0b6854",
   "metadata": {},
   "outputs": [
    {
     "name": "stdout",
     "output_type": "stream",
     "text": [
      "Squares dictionary: {1: 1, 2: 4, 3: 9, 4: 16, 5: 25}\n",
      "Even squares dictionary: {2: 4, 4: 16, 6: 36, 8: 64, 10: 100}\n"
     ]
    }
   ],
   "source": [
    "# Example: Square of numbers\n",
    "squares = {x: x**2 for x in range(1, 6)}\n",
    "print(\"Squares dictionary:\", squares)\n",
    "\n",
    "# Filtering with comprehension\n",
    "even_squares = {x: x**2 for x in range(1, 11) if x % 2 == 0}\n",
    "print(\"Even squares dictionary:\", even_squares)"
   ]
  },
  {
   "cell_type": "markdown",
   "id": "5ea726b1",
   "metadata": {},
   "source": [
    "## 6. Nested Dictionaries\n",
    "Dictionaries can contain other dictionaries."
   ]
  },
  {
   "cell_type": "code",
   "execution_count": 6,
   "id": "ccecdd80",
   "metadata": {},
   "outputs": [
    {
     "name": "stdout",
     "output_type": "stream",
     "text": [
      "Nested Dictionary: {'student1': {'name': 'Ali', 'age': 21}, 'student2': {'name': 'Sara', 'age': 20}}\n",
      "Student1 Name: Ali\n"
     ]
    }
   ],
   "source": [
    "students = {\n",
    "    \"student1\": {\"name\": \"Ali\", \"age\": 21},\n",
    "    \"student2\": {\"name\": \"Sara\", \"age\": 20}\n",
    "}\n",
    "print(\"Nested Dictionary:\", students)\n",
    "print(\"Student1 Name:\", students[\"student1\"][\"name\"])"
   ]
  },
  {
   "cell_type": "markdown",
   "id": "3e646416",
   "metadata": {},
   "source": [
    "## Conclusion\n",
    "- Dictionaries are key-value pair collections.\n",
    "- They are mutable, unordered, and fast for lookups.\n",
    "- Dictionary comprehensions provide a concise way to build dictionaries.\n",
    "- Nested dictionaries allow representing structured data."
   ]
  }
 ],
 "metadata": {
  "kernelspec": {
   "display_name": "Python 3",
   "language": "python",
   "name": "python3"
  },
  "language_info": {
   "codemirror_mode": {
    "name": "ipython",
    "version": 3
   },
   "file_extension": ".py",
   "mimetype": "text/x-python",
   "name": "python",
   "nbconvert_exporter": "python",
   "pygments_lexer": "ipython3",
   "version": "3.13.3"
  }
 },
 "nbformat": 4,
 "nbformat_minor": 5
}
