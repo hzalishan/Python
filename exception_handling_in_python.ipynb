{
 "cells": [
  {
   "cell_type": "markdown",
   "id": "3f4d3b00",
   "metadata": {},
   "source": [
    "# Exception Handling in Python\n",
    "Exception handling allows us to manage errors gracefully without stopping the program."
   ]
  },
  {
   "cell_type": "markdown",
   "id": "5115cc65",
   "metadata": {},
   "source": [
    "## What is an Exception?\n",
    "An **exception** is an error that occurs during the execution of a program. If not handled, it stops the program."
   ]
  },
  {
   "cell_type": "markdown",
   "id": "f74dae0b",
   "metadata": {},
   "source": [
    "## The try-except Block\n",
    "We use `try` and `except` to handle exceptions.\n",
    "\n",
    "**Syntax:**\n",
    "```python\n",
    "try:\n",
    "    # code that may raise exception\n",
    "except ExceptionType:\n",
    "    # handle exception\n",
    "```"
   ]
  },
  {
   "cell_type": "code",
   "execution_count": null,
   "id": "aece8b35",
   "metadata": {},
   "outputs": [],
   "source": [
    "try:\n",
    "    num = int(\"abc\")\n",
    "except ValueError:\n",
    "    print(\"Invalid conversion to integer!\")"
   ]
  },
  {
   "cell_type": "markdown",
   "id": "46148bd1",
   "metadata": {},
   "source": [
    "## Multiple Except Blocks\n",
    "We can catch different exceptions separately."
   ]
  },
  {
   "cell_type": "code",
   "execution_count": null,
   "id": "f0865972",
   "metadata": {},
   "outputs": [],
   "source": [
    "try:\n",
    "    x = 10 / 0\n",
    "except ZeroDivisionError:\n",
    "    print(\"Cannot divide by zero!\")\n",
    "except ValueError:\n",
    "    print(\"Invalid value!\")"
   ]
  },
  {
   "cell_type": "markdown",
   "id": "86a3b86d",
   "metadata": {},
   "source": [
    "## Catching All Exceptions"
   ]
  },
  {
   "cell_type": "code",
   "execution_count": null,
   "id": "ca54faba",
   "metadata": {},
   "outputs": [],
   "source": [
    "try:\n",
    "    print(10 / 0)\n",
    "except Exception as e:\n",
    "    print(\"Error occurred:\", e)"
   ]
  },
  {
   "cell_type": "markdown",
   "id": "e112f3d3",
   "metadata": {},
   "source": [
    "## The else Block\n",
    "The `else` block runs if no exception occurs."
   ]
  },
  {
   "cell_type": "code",
   "execution_count": null,
   "id": "57be5c3f",
   "metadata": {},
   "outputs": [],
   "source": [
    "try:\n",
    "    x = 5 + 3\n",
    "except:\n",
    "    print(\"Error occurred\")\n",
    "else:\n",
    "    print(\"No error, result:\", x)"
   ]
  },
  {
   "cell_type": "markdown",
   "id": "1514886e",
   "metadata": {},
   "source": [
    "## The finally Block\n",
    "The `finally` block always runs, whether an exception occurs or not."
   ]
  },
  {
   "cell_type": "code",
   "execution_count": null,
   "id": "5097e002",
   "metadata": {},
   "outputs": [],
   "source": [
    "try:\n",
    "    f = open(\"sample.txt\", \"w\")\n",
    "    f.write(\"Hello\")\n",
    "except:\n",
    "    print(\"Error while handling file\")\n",
    "finally:\n",
    "    f.close()\n",
    "    print(\"File closed\")"
   ]
  },
  {
   "cell_type": "markdown",
   "id": "d962d007",
   "metadata": {},
   "source": [
    "## Raising Exceptions\n",
    "We can raise exceptions using `raise`."
   ]
  },
  {
   "cell_type": "code",
   "execution_count": null,
   "id": "7205b451",
   "metadata": {},
   "outputs": [],
   "source": [
    "x = -1\n",
    "if x < 0:\n",
    "    raise ValueError(\"x cannot be negative\")"
   ]
  },
  {
   "cell_type": "markdown",
   "id": "cca33394",
   "metadata": {},
   "source": [
    "## Custom Exceptions\n",
    "We can create our own exceptions by inheriting from `Exception`."
   ]
  },
  {
   "cell_type": "code",
   "execution_count": null,
   "id": "79520bc8",
   "metadata": {},
   "outputs": [],
   "source": [
    "class MyError(Exception):\n",
    "    pass\n",
    "\n",
    "try:\n",
    "    raise MyError(\"Something went wrong!\")\n",
    "except MyError as e:\n",
    "    print(e)"
   ]
  },
  {
   "cell_type": "markdown",
   "id": "85680a46",
   "metadata": {},
   "source": [
    "## Conclusion\n",
    "- Exceptions handle runtime errors without crashing the program\n",
    "- Use `try-except` to manage errors\n",
    "- `else` runs when no error occurs\n",
    "- `finally` always runs\n",
    "- You can raise built-in or custom exceptions"
   ]
  },
  {
   "cell_type": "markdown",
   "id": "2e7ce825",
   "metadata": {},
   "source": [
    "## Key Takeaways\n",
    "- Handle errors gracefully with try-except\n",
    "- Use multiple except blocks for different errors\n",
    "- `finally` ensures resource cleanup\n",
    "- Custom exceptions provide flexibility"
   ]
  }
 ],
 "metadata": {},
 "nbformat": 4,
 "nbformat_minor": 5
}