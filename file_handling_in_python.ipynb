{
 "cells": [
  {
   "cell_type": "markdown",
   "id": "78bedd33",
   "metadata": {},
   "source": [
    "# File Handling in Python\n",
    "File handling allows us to work with files for reading, writing, creating, and deleting."
   ]
  },
  {
   "cell_type": "markdown",
   "id": "bc344b13",
   "metadata": {},
   "source": [
    "## Opening a File\n",
    "We use the built-in `open()` function.\n",
    "\n",
    "**Syntax:**\n",
    "```python\n",
    "open(\"filename\", \"mode\")\n",
    "```\n",
    "\n",
    "### Common Modes\n",
    "- `\"r\"` → Read (default)\n",
    "- `\"w\"` → Write (overwrite)\n",
    "- `\"a\"` → Append\n",
    "- `\"x\"` → Create (error if exists)\n",
    "- `\"b\"` → Binary mode\n",
    "- `\"t\"` → Text mode (default)"
   ]
  },
  {
   "cell_type": "code",
   "execution_count": null,
   "id": "c39a52c6",
   "metadata": {},
   "outputs": [],
   "source": [
    "f = open(\"example.txt\", \"w\")\n",
    "f.write(\"Hello File Handling!\")\n",
    "f.close()"
   ]
  },
  {
   "cell_type": "markdown",
   "id": "5b3a1cc4",
   "metadata": {},
   "source": [
    "## Reading a File"
   ]
  },
  {
   "cell_type": "code",
   "execution_count": null,
   "id": "ab11c90f",
   "metadata": {},
   "outputs": [],
   "source": [
    "f = open(\"example.txt\", \"r\")\n",
    "print(f.read())\n",
    "f.close()"
   ]
  },
  {
   "cell_type": "code",
   "execution_count": null,
   "id": "1678adc9",
   "metadata": {},
   "outputs": [],
   "source": [
    "f = open(\"example.txt\", \"r\")\n",
    "print(f.readline())\n",
    "f.close()"
   ]
  },
  {
   "cell_type": "markdown",
   "id": "e1f152be",
   "metadata": {},
   "source": [
    "## Writing to a File"
   ]
  },
  {
   "cell_type": "code",
   "execution_count": null,
   "id": "4f7a157b",
   "metadata": {},
   "outputs": [],
   "source": [
    "f = open(\"example.txt\", \"w\")\n",
    "f.write(\"Overwritten Content\")\n",
    "f.close()"
   ]
  },
  {
   "cell_type": "code",
   "execution_count": null,
   "id": "eeb34123",
   "metadata": {},
   "outputs": [],
   "source": [
    "f = open(\"example.txt\", \"a\")\n",
    "f.write(\"\\nAppended Content\")\n",
    "f.close()"
   ]
  },
  {
   "cell_type": "markdown",
   "id": "d34c44a9",
   "metadata": {},
   "source": [
    "## Using `with` Statement (Auto Close)"
   ]
  },
  {
   "cell_type": "code",
   "execution_count": null,
   "id": "ddd22168",
   "metadata": {},
   "outputs": [],
   "source": [
    "with open(\"example.txt\", \"r\") as f:\n",
    "    data = f.read()\n",
    "    print(data)"
   ]
  },
  {
   "cell_type": "markdown",
   "id": "ca48253e",
   "metadata": {},
   "source": [
    "## Creating a File"
   ]
  },
  {
   "cell_type": "code",
   "execution_count": null,
   "id": "ab537f15",
   "metadata": {},
   "outputs": [],
   "source": [
    "f = open(\"newfile.txt\", \"x\")\n",
    "f.close()"
   ]
  },
  {
   "cell_type": "markdown",
   "id": "59eb65ad",
   "metadata": {},
   "source": [
    "## Deleting a File"
   ]
  },
  {
   "cell_type": "code",
   "execution_count": null,
   "id": "102037ea",
   "metadata": {},
   "outputs": [],
   "source": [
    "import os\n",
    "if os.path.exists(\"newfile.txt\"):\n",
    "    os.remove(\"newfile.txt\")\n",
    "    print(\"File deleted\")\n",
    "else:\n",
    "    print(\"File does not exist\")"
   ]
  },
  {
   "cell_type": "markdown",
   "id": "4900884c",
   "metadata": {},
   "source": [
    "## Practical Example"
   ]
  },
  {
   "cell_type": "code",
   "execution_count": null,
   "id": "37cbcacd",
   "metadata": {},
   "outputs": [],
   "source": [
    "# Writing student names\n",
    "with open(\"students.txt\", \"w\") as f:\n",
    "    f.write(\"Ali\\n\")\n",
    "    f.write(\"Sara\\n\")\n",
    "\n",
    "# Reading student names\n",
    "with open(\"students.txt\", \"r\") as f:\n",
    "    print(f.read())"
   ]
  },
  {
   "cell_type": "markdown",
   "id": "22936ce1",
   "metadata": {},
   "source": [
    "## Conclusion\n",
    "- `open()` allows file operations with modes\n",
    "- Always close files (or use `with`)\n",
    "- Files can be created, read, written, appended, and deleted\n",
    "- `os` module helps in file management"
   ]
  },
  {
   "cell_type": "markdown",
   "id": "feb0672f",
   "metadata": {},
   "source": [
    "## Key Takeaways\n",
    "- Modes: `r`, `w`, `a`, `x`\n",
    "- Use `with open()` for auto-closing\n",
    "- `os.remove()` deletes files safely\n",
    "- File handling is important for persistent data"
   ]
  }
 ],
 "metadata": {},
 "nbformat": 4,
 "nbformat_minor": 5
}