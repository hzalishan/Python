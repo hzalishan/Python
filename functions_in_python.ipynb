{
  "cells": [
    {
      "cell_type": "markdown",
      "id": "2e061142",
      "metadata": {},
      "source": [
        "# Getting Started With Functions in Python"
      ]
    },
    {
      "cell_type": "markdown",
      "id": "c4e3e0d4",
      "metadata": {},
      "source": [
        "\n",
        "## Introduction to Functions\n",
        "In this notebook, we will discuss the most important module in Python, which is called **functions**. \n",
        "\n",
        "### Outline\n",
        "- What functions are  \n",
        "- Why we require them  \n",
        "- How to define and call them  \n",
        "- Syntax  \n",
        "- Parameters  \n",
        "- Default parameters  \n",
        "- Variable length arguments  \n",
        "- Positional and keyword arguments  \n",
        "- Return statement  \n",
        "\n",
        "Each concept will be demonstrated with code examples in Python.\n"
      ]
    },
    {
      "cell_type": "markdown",
      "id": "78fa96b3",
      "metadata": {},
      "source": [
        "## What is a Function?"
      ]
    },
    {
      "cell_type": "markdown",
      "id": "d65d1498",
      "metadata": {},
      "source": [
        "\n",
        "A function is a block of code that performs a specific task.  \n",
        "Functions help in organizing code, reusing code, and improving readability.  \n",
        "\n",
        "👉 It is not necessary for a function to always return a value, but many functions do.\n"
      ]
    },
    {
      "cell_type": "code",
      "execution_count": 3,
      "id": "460bd718",
      "metadata": {},
      "outputs": [],
      "source": [
        "def my_function():\n",
        "    \"\"\"This is a docstring.\"\"\"\n",
        "    # function body\n",
        "    return"
      ]
    },
    {
      "cell_type": "markdown",
      "id": "901063bd",
      "metadata": {},
      "source": [
        "## Why Do We Require Functions?"
      ]
    },
    {
      "cell_type": "markdown",
      "id": "a7624b8f",
      "metadata": {},
      "source": [
        "\n",
        "Suppose you need to check whether a number is even or odd in multiple places in your project.  \n",
        "Instead of copying the same code everywhere, you can write it once inside a function and reuse it.\n"
      ]
    },
    {
      "cell_type": "code",
      "execution_count": 4,
      "id": "b4b2940d",
      "metadata": {},
      "outputs": [
        {
          "name": "stdout",
          "output_type": "stream",
          "text": [
            "The number is even.\n"
          ]
        }
      ],
      "source": [
        "num = 24\n",
        "if num % 2 == 0:\n",
        "    print(\"The number is even.\")\n",
        "else:\n",
        "    print(\"The number is odd.\")"
      ]
    },
    {
      "cell_type": "markdown",
      "id": "c4d7ba9e",
      "metadata": {},
      "source": [
        "## Defining and Calling a Function"
      ]
    },
    {
      "cell_type": "code",
      "execution_count": 5,
      "id": "874912d0",
      "metadata": {},
      "outputs": [
        {
          "name": "stdout",
          "output_type": "stream",
          "text": [
            "The number is odd\n"
          ]
        }
      ],
      "source": [
        "def even_or_odd(num):\n",
        "    \"\"\"This function finds whether a number is even or odd.\"\"\"\n",
        "    if num % 2 == 0:\n",
        "        print(\"The number is even\")\n",
        "    else:\n",
        "        print(\"The number is odd\")\n",
        "\n",
        "even_or_odd(33)"
      ]
    },
    {
      "cell_type": "markdown",
      "id": "00dd737a",
      "metadata": {},
      "source": [
        "## Importance of Indentation"
      ]
    },
    {
      "cell_type": "markdown",
      "id": "a5675d14",
      "metadata": {},
      "source": [
        "\n",
        "Always ensure the indentation is correct in Python.  \n",
        "If indentation is missing, you will get an error such as:  \n",
        "`expected an indented block after the if statement.`\n"
      ]
    },
    {
      "cell_type": "markdown",
      "id": "4554a68b",
      "metadata": {},
      "source": [
        "## Functions with Multiple Parameters"
      ]
    },
    {
      "cell_type": "code",
      "execution_count": 2,
      "id": "968300d1",
      "metadata": {},
      "outputs": [
        {
          "name": "stdout",
          "output_type": "stream",
          "text": [
            "9\n"
          ]
        }
      ],
      "source": [
        "def add(a, b):\n",
        "    return a + b\n",
        "\n",
        "result = add(3, 6)\n",
        "print(result)"
      ]
    },
    {
      "cell_type": "markdown",
      "id": "eeaeba9f",
      "metadata": {},
      "source": [
        "## Default Parameters"
      ]
    },
    {
      "cell_type": "code",
      "execution_count": 1,
      "id": "13952779",
      "metadata": {},
      "outputs": [
        {
          "name": "stdout",
          "output_type": "stream",
          "text": [
            "Hello Abdul Khaliq. Welcome to the Paradise.\n",
            "Hello Ali Shan. Welcome to the Paradise.\n"
          ]
        }
      ],
      "source": [
        "def greet(name=\"Ali Shan\"):\n",
        "    print(f\"Hello {name}. Welcome to the Paradise.\")\n",
        "\n",
        "greet(\"Abdul Khaliq\")\n",
        "greet()"
      ]
    },
    {
      "cell_type": "markdown",
      "id": "accbe86e",
      "metadata": {},
      "source": [
        "## Variable Length Arguments (*args)"
      ]
    },
    {
      "cell_type": "code",
      "execution_count": 6,
      "id": "d503e678",
      "metadata": {},
      "outputs": [
        {
          "name": "stdout",
          "output_type": "stream",
          "text": [
            "1\n",
            "2\n",
            "3\n",
            "4\n",
            "5\n",
            "6\n",
            "crush\n"
          ]
        }
      ],
      "source": [
        "def print_numbers(*args):\n",
        "    for number in args:\n",
        "        print(number)\n",
        "\n",
        "print_numbers(1, 2, 3, 4, 5, 6, \"crush\")"
      ]
    },
    {
      "cell_type": "markdown",
      "id": "b097693d",
      "metadata": {},
      "source": [
        "## Keyword Arguments (**kwargs)"
      ]
    },
    {
      "cell_type": "code",
      "execution_count": 7,
      "id": "d1894f98",
      "metadata": {},
      "outputs": [
        {
          "name": "stdout",
          "output_type": "stream",
          "text": [
            "name: Krish\n",
            "age: 32\n",
            "country: India\n"
          ]
        }
      ],
      "source": [
        "def print_detail(**kwargs):\n",
        "    for key, value in kwargs.items():\n",
        "        print(f\"{key}: {value}\")\n",
        "\n",
        "print_detail(name=\"Krish\", age=32, country=\"India\")"
      ]
    },
    {
      "cell_type": "markdown",
      "id": "40258bf9",
      "metadata": {},
      "source": [
        "## Combining Positional and Keyword Arguments"
      ]
    },
    {
      "cell_type": "code",
      "execution_count": 9,
      "id": "d5e30117",
      "metadata": {},
      "outputs": [
        {
          "name": "stdout",
          "output_type": "stream",
          "text": [
            "Positional arguments:\n",
            "1\n",
            "2\n",
            "3\n",
            "4\n",
            "5\n",
            "Keyword arguments:\n",
            "name: Ali Shan\n",
            "age: 32\n"
          ]
        }
      ],
      "source": [
        "def print_detail(*args, **kwargs):\n",
        "    print(\"Positional arguments:\")\n",
        "    for val in args:\n",
        "        print(val)\n",
        "    print(\"Keyword arguments:\")\n",
        "    for key, value in kwargs.items():\n",
        "        print(f\"{key}: {value}\")\n",
        "\n",
        "print_detail(1, 2, 3, 4, 5, name=\"Ali Shan\", age=32)"
      ]
    },
    {
      "cell_type": "markdown",
      "id": "ac4bc86b",
      "metadata": {},
      "source": [
        "## The Return Statement"
      ]
    },
    {
      "cell_type": "code",
      "execution_count": 11,
      "id": "b7a75d83",
      "metadata": {},
      "outputs": [
        {
          "name": "stdout",
          "output_type": "stream",
          "text": [
            "6\n"
          ]
        }
      ],
      "source": [
        "def multiply(a, b):\n",
        "    return a * b\n",
        "\n",
        "result = multiply(2, 3)\n",
        "print(result)"
      ]
    },
    {
      "cell_type": "markdown",
      "id": "2f1ce821",
      "metadata": {},
      "source": [
        "## Returning Multiple Values"
      ]
    },
    {
      "cell_type": "code",
      "execution_count": 10,
      "id": "435d36f7",
      "metadata": {},
      "outputs": [
        {
          "name": "stdout",
          "output_type": "stream",
          "text": [
            "2 3 6\n"
          ]
        }
      ],
      "source": [
        "def multi_return(a, b):\n",
        "    return a, b, a * b\n",
        "\n",
        "x, y, prod = multi_return(2, 3)\n",
        "print(x, y, prod)"
      ]
    },
    {
      "cell_type": "markdown",
      "id": "d3421005",
      "metadata": {},
      "source": [
        "\n",
        "## Conclusion\n",
        "This notebook covered the basics of **functions** in Python, including:\n",
        "- Syntax\n",
        "- Parameters (default, positional, keyword)\n",
        "- Variable length arguments (`*args`, `**kwargs`)\n",
        "- The return statement\n",
        "\n",
        "In upcoming sessions, we will discuss:\n",
        "- Lambda functions  \n",
        "- Nested functions  \n",
        "- Higher-order functions  \n"
      ]
    },
    {
      "cell_type": "markdown",
      "id": "733c8371",
      "metadata": {},
      "source": [
        "\n",
        "## Key Takeaways\n",
        "- Functions are essential for organizing, reusing, and improving code readability.  \n",
        "- Functions can accept parameters, including default, positional, and keyword arguments.  \n",
        "- Functions can return single or multiple values.  \n",
        "- `*args` handles positional variable length arguments.  \n",
        "- `**kwargs` handles keyword variable length arguments.  \n",
        "- Proper use of indentation and docstrings ensures clarity and error-free execution.  \n"
      ]
    }
  ],
  "metadata": {
    "kernelspec": {
      "display_name": "Python 3",
      "language": "python",
      "name": "python3"
    },
    "language_info": {
      "codemirror_mode": {
        "name": "ipython",
        "version": 3
      },
      "file_extension": ".py",
      "mimetype": "text/x-python",
      "name": "python",
      "nbconvert_exporter": "python",
      "pygments_lexer": "ipython3",
      "version": "3.13.3"
    }
  },
  "nbformat": 4,
  "nbformat_minor": 5
}
