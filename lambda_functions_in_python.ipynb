{
  "nbformat": 4,
  "nbformat_minor": 5,
  "metadata": {},
  "cells": [
    {
      "id": "ccb68ca3",
      "cell_type": "markdown",
      "source": "# Lambda Functions in Python",
      "metadata": {}
    },
    {
      "id": "54da2c01",
      "cell_type": "markdown",
      "source": "\n## Introduction to Lambda Functions\nIn this notebook, we will discuss **lambda functions** in Python.\n\n### Outline\n- What is a Lambda Function?  \n- Syntax of Lambda Functions  \n- Converting a function into a lambda  \n- Examples (even numbers, addition, multiple parameters)  \n- Using lambda with `map()`  \n- Conclusion & Key Takeaways  \n",
      "metadata": {}
    },
    {
      "id": "1aa7aac2",
      "cell_type": "markdown",
      "source": "## What is a Lambda Function?",
      "metadata": {}
    },
    {
      "id": "8222a773",
      "cell_type": "markdown",
      "source": "\nLambda functions are small, anonymous functions defined using the `lambda` keyword.  \n\n\ud83d\udc49 An anonymous function is a function without a name.  \n\ud83d\udc49 Lambda functions can have any number of arguments, but only one expression.  \n\ud83d\udc49 They are commonly used for short operations or as arguments to higher-order functions.  \n",
      "metadata": {}
    },
    {
      "id": "5e925fd8",
      "cell_type": "markdown",
      "source": "## Syntax of Lambda Functions",
      "metadata": {}
    },
    {
      "id": "6214f898",
      "cell_type": "code",
      "metadata": {},
      "execution_count": null,
      "source": "# Syntax:\n# lambda arguments: expression\n\n# Example - normal function\ndef addition(a, b):\n    return a + b\n\nprint(addition(2, 3))",
      "outputs": []
    },
    {
      "id": "29cedb7f",
      "cell_type": "markdown",
      "source": "## Converting a Function to Lambda",
      "metadata": {}
    },
    {
      "id": "50a87a91",
      "cell_type": "code",
      "metadata": {},
      "execution_count": null,
      "source": "# Using lambda\naddition = lambda a, b: a + b\nprint(addition(5, 6))",
      "outputs": []
    },
    {
      "id": "7486a7de",
      "cell_type": "markdown",
      "source": "## Example: Checking Even Numbers",
      "metadata": {}
    },
    {
      "id": "e7582980",
      "cell_type": "code",
      "metadata": {},
      "execution_count": null,
      "source": "# Normal function\ndef even(num):\n    return num % 2 == 0\n\nprint(even(24))\n\n# Lambda function\neven1 = lambda num: num % 2 == 0\nprint(even1(12))",
      "outputs": []
    },
    {
      "id": "e5d7683c",
      "cell_type": "markdown",
      "source": "## Lambda Functions with Multiple Parameters",
      "metadata": {}
    },
    {
      "id": "5979339d",
      "cell_type": "code",
      "metadata": {},
      "execution_count": null,
      "source": "# Normal function\ndef addition(x, y, z):\n    return x + y + z\n\nprint(addition(12, 13, 14))\n\n# Lambda function\naddition1 = lambda x, y, z: x + y + z\nprint(addition1(12, 13, 14))",
      "outputs": []
    },
    {
      "id": "5f260b94",
      "cell_type": "markdown",
      "source": "## Lambda Functions with Map",
      "metadata": {}
    },
    {
      "id": "86f9f208",
      "cell_type": "code",
      "metadata": {},
      "execution_count": null,
      "source": "numbers = [1, 2, 3, 4, 5, 6]\n\n# Normal function for square\ndef square(number):\n    return number ** 2\n\nprint(list(map(square, numbers)))",
      "outputs": []
    },
    {
      "id": "f8e9c881",
      "cell_type": "markdown",
      "source": "### Using Map with Lambda",
      "metadata": {}
    },
    {
      "id": "a12c0ef1",
      "cell_type": "code",
      "metadata": {},
      "execution_count": null,
      "source": "# Using lambda with map to square numbers\nsquare_numbers = list(map(lambda x: x ** 2, numbers))\nprint(square_numbers)",
      "outputs": []
    },
    {
      "id": "d83bf19e",
      "cell_type": "markdown",
      "source": "\n## Conclusion\nLambda functions are useful for concise operations, especially when used with higher-order functions like `map` and `filter`.  \n\nIn upcoming lessons, we will further discuss **map** and **filter** functions.  \n",
      "metadata": {}
    },
    {
      "id": "47966e13",
      "cell_type": "markdown",
      "source": "\n## Key Takeaways\n- Lambda functions are small, anonymous functions defined using the `lambda` keyword.  \n- They can take any number of arguments but contain only **one expression**.  \n- Useful for short operations and when passing functions as arguments.  \n- Can replace simple named functions, especially when only a single expression is needed.  \n- Work well with higher-order functions like `map()` and `filter()`.  \n",
      "metadata": {}
    }
  ]
}