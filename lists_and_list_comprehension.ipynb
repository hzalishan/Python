{
 "cells": [
  {
   "cell_type": "markdown",
   "id": "99a4b8a1",
   "metadata": {},
   "source": [
    "# Lists and List Comprehension in Python\n",
    "\n",
    "In this notebook, we will learn about **Lists** and **List Comprehensions** in Python.  \n",
    "Lists are one of the most commonly used data structures, and list comprehensions provide a concise way to create and manipulate lists.\n"
   ]
  },
  {
   "cell_type": "markdown",
   "id": "36650734",
   "metadata": {},
   "source": [
    "## 1. What is a List?\n",
    "- A list is a collection of items in Python.\n",
    "- Lists are **ordered, mutable, and allow duplicates**.\n",
    "- Lists can contain different data types."
   ]
  },
  {
   "cell_type": "code",
   "execution_count": 1,
   "id": "42669494",
   "metadata": {},
   "outputs": [
    {
     "name": "stdout",
     "output_type": "stream",
     "text": [
      "List: [1, 2, 3, 4, 5]\n",
      "Mixed List: [10, 'Hello', 3.14, True]\n"
     ]
    }
   ],
   "source": [
    "# Example: Creating a list\n",
    "my_list = [1, 2, 3, 4, 5]\n",
    "print(\"List:\", my_list)\n",
    "\n",
    "# Mixed data types\n",
    "mixed_list = [10, \"Hello\", 3.14, True]\n",
    "print(\"Mixed List:\", mixed_list)"
   ]
  },
  {
   "cell_type": "markdown",
   "id": "3e191301",
   "metadata": {},
   "source": [
    "## 2. List Operations\n",
    "We can access, modify, add, and remove elements in a list."
   ]
  },
  {
   "cell_type": "code",
   "execution_count": 2,
   "id": "3a1e5bf8",
   "metadata": {},
   "outputs": [
    {
     "name": "stdout",
     "output_type": "stream",
     "text": [
      "First element: 10\n",
      "Last element: 50\n",
      "Modified list: [10, 20, 35, 40, 50]\n",
      "After append: [10, 20, 35, 40, 50, 60]\n",
      "After insert: [10, 20, 25, 35, 40, 50, 60]\n",
      "After remove: [10, 20, 25, 35, 50, 60]\n",
      "After pop: [10, 20, 25, 35, 50] | Popped element: 60\n"
     ]
    }
   ],
   "source": [
    "# Accessing elements\n",
    "numbers = [10, 20, 30, 40, 50]\n",
    "print(\"First element:\", numbers[0])\n",
    "print(\"Last element:\", numbers[-1])\n",
    "\n",
    "# Modifying elements\n",
    "numbers[2] = 35\n",
    "print(\"Modified list:\", numbers)\n",
    "\n",
    "# Adding elements\n",
    "numbers.append(60)\n",
    "print(\"After append:\", numbers)\n",
    "\n",
    "numbers.insert(2, 25)\n",
    "print(\"After insert:\", numbers)\n",
    "\n",
    "# Removing elements\n",
    "numbers.remove(40)\n",
    "print(\"After remove:\", numbers)\n",
    "\n",
    "popped = numbers.pop()\n",
    "print(\"After pop:\", numbers, \"| Popped element:\", popped)"
   ]
  },
  {
   "cell_type": "markdown",
   "id": "f2540e1c",
   "metadata": {},
   "source": [
    "## 3. Useful List Functions\n",
    "Some commonly used list functions are: `len()`, `min()`, `max()`, `sum()`, and `sorted()`."
   ]
  },
  {
   "cell_type": "code",
   "execution_count": 3,
   "id": "8cd3e75d",
   "metadata": {},
   "outputs": [
    {
     "name": "stdout",
     "output_type": "stream",
     "text": [
      "Length: 5\n",
      "Minimum: 1\n",
      "Maximum: 9\n",
      "Sum: 24\n",
      "Sorted: [1, 2, 5, 7, 9]\n"
     ]
    }
   ],
   "source": [
    "data = [5, 2, 9, 1, 7]\n",
    "print(\"Length:\", len(data))\n",
    "print(\"Minimum:\", min(data))\n",
    "print(\"Maximum:\", max(data))\n",
    "print(\"Sum:\", sum(data))\n",
    "print(\"Sorted:\", sorted(data))"
   ]
  },
  {
   "cell_type": "markdown",
   "id": "502d291b",
   "metadata": {},
   "source": [
    "## 4. List Comprehension\n",
    "List comprehensions provide a **short and elegant** way to create lists."
   ]
  },
  {
   "cell_type": "code",
   "execution_count": 4,
   "id": "2e1b328c",
   "metadata": {},
   "outputs": [
    {
     "name": "stdout",
     "output_type": "stream",
     "text": [
      "Squares using loop: [1, 4, 9, 16, 25]\n",
      "Squares using comprehension: [1, 4, 9, 16, 25]\n"
     ]
    }
   ],
   "source": [
    "# Example: Creating a list of squares using a loop\n",
    "squares_loop = []\n",
    "for i in range(1, 6):\n",
    "    squares_loop.append(i**2)\n",
    "print(\"Squares using loop:\", squares_loop)\n",
    "\n",
    "# Example: Creating a list of squares using list comprehension\n",
    "squares_comp = [i**2 for i in range(1, 6)]\n",
    "print(\"Squares using comprehension:\", squares_comp)"
   ]
  },
  {
   "cell_type": "markdown",
   "id": "33d2c55c",
   "metadata": {},
   "source": [
    "## 5. Advanced List Comprehensions\n",
    "We can add conditions in list comprehensions."
   ]
  },
  {
   "cell_type": "code",
   "execution_count": 5,
   "id": "ab1e640d",
   "metadata": {},
   "outputs": [
    {
     "name": "stdout",
     "output_type": "stream",
     "text": [
      "Even numbers: [2, 4, 6, 8, 10]\n",
      "Words longer than 3 letters: ['Python', 'learn']\n"
     ]
    }
   ],
   "source": [
    "# Example: Even numbers from 1 to 10\n",
    "evens = [x for x in range(1, 11) if x % 2 == 0]\n",
    "print(\"Even numbers:\", evens)\n",
    "\n",
    "# Example: Words with more than 3 letters\n",
    "words = [\"Python\", \"is\", \"fun\", \"to\", \"learn\"]\n",
    "long_words = [word for word in words if len(word) > 3]\n",
    "print(\"Words longer than 3 letters:\", long_words)"
   ]
  },
  {
   "cell_type": "markdown",
   "id": "385458ce",
   "metadata": {},
   "source": [
    "## 6. Nested List Comprehensions\n",
    "We can use nested loops inside a list comprehension."
   ]
  },
  {
   "cell_type": "code",
   "execution_count": 6,
   "id": "1f54968c",
   "metadata": {},
   "outputs": [
    {
     "name": "stdout",
     "output_type": "stream",
     "text": [
      "Flattened list: [1, 2, 3, 4, 5, 6]\n"
     ]
    }
   ],
   "source": [
    "# Example: Flattening a matrix\n",
    "matrix = [[1, 2], [3, 4], [5, 6]]\n",
    "flattened = [num for row in matrix for num in row]\n",
    "print(\"Flattened list:\", flattened)"
   ]
  },
  {
   "cell_type": "markdown",
   "id": "22453e38",
   "metadata": {},
   "source": [
    "## Conclusion\n",
    "- Lists are versatile data structures in Python.\n",
    "- List comprehensions make it easier to create and transform lists in a single line of code.\n",
    "- They improve code readability and efficiency."
   ]
  }
 ],
 "metadata": {
  "kernelspec": {
   "display_name": "Python 3",
   "language": "python",
   "name": "python3"
  },
  "language_info": {
   "codemirror_mode": {
    "name": "ipython",
    "version": 3
   },
   "file_extension": ".py",
   "mimetype": "text/x-python",
   "name": "python",
   "nbconvert_exporter": "python",
   "pygments_lexer": "ipython3",
   "version": "3.13.3"
  }
 },
 "nbformat": 4,
 "nbformat_minor": 5
}
