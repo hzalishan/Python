{
 "cells": [
  {
   "cell_type": "markdown",
   "id": "714bf2c7",
   "metadata": {},
   "source": [
    "# Loops in Python\n",
    "---\n",
    "Loops are used to repeat a block of code multiple times. \n",
    "\n",
    "Python provides mainly two types of loops:\n",
    "- **for loop**\n",
    "- **while loop**\n",
    "\n",
    "We also use loop control statements like `break`, `continue`, and `pass`."
   ]
  },
  {
   "cell_type": "markdown",
   "id": "846064f8",
   "metadata": {},
   "source": [
    "## 1. For Loop\n",
    "The `for` loop is used to iterate over a sequence (like list, tuple, string, or range)."
   ]
  },
  {
   "cell_type": "code",
   "execution_count": 8,
   "id": "acc0a13a",
   "metadata": {},
   "outputs": [
    {
     "name": "stdout",
     "output_type": "stream",
     "text": [
      "1\n",
      "2\n",
      "3\n",
      "4\n",
      "5\n",
      "6\n",
      "7\n",
      "8\n",
      "9\n",
      "10\n"
     ]
    }
   ],
   "source": [
    "for i in range(1, 11):\n",
    "    print(i)"
   ]
  },
  {
   "cell_type": "markdown",
   "id": "38b024a2",
   "metadata": {},
   "source": [
    "## 2. While Loop\n",
    "The `while` loop runs until the condition becomes **False**."
   ]
  },
  {
   "cell_type": "code",
   "execution_count": 9,
   "id": "d3f03ed1",
   "metadata": {},
   "outputs": [
    {
     "name": "stdout",
     "output_type": "stream",
     "text": [
      "1\n",
      "2\n",
      "3\n",
      "4\n",
      "5\n",
      "6\n",
      "7\n",
      "8\n",
      "9\n",
      "10\n"
     ]
    }
   ],
   "source": [
    "i = 1\n",
    "while i <= 10:\n",
    "    print(i)\n",
    "    i += 1"
   ]
  },
  {
   "cell_type": "markdown",
   "id": "2b199146",
   "metadata": {},
   "source": [
    "## 3. Break Statement\n",
    "The `break` statement is used to stop the loop completely."
   ]
  },
  {
   "cell_type": "code",
   "execution_count": 10,
   "id": "7d3f6fd6",
   "metadata": {},
   "outputs": [
    {
     "name": "stdout",
     "output_type": "stream",
     "text": [
      "Checking: 1\n",
      "Checking: 3\n",
      "Found: 7\n"
     ]
    }
   ],
   "source": [
    "numbers = [1, 3, 7, 9, 11]\n",
    "for n in numbers:\n",
    "    if n == 7:\n",
    "        print('Found:', n)\n",
    "        break\n",
    "    print('Checking:', n)"
   ]
  },
  {
   "cell_type": "markdown",
   "id": "7884839d",
   "metadata": {},
   "source": [
    "## 4. Continue Statement\n",
    "The `continue` statement skips the current iteration and moves to the next one."
   ]
  },
  {
   "cell_type": "code",
   "execution_count": 11,
   "id": "15c2ee86",
   "metadata": {},
   "outputs": [
    {
     "name": "stdout",
     "output_type": "stream",
     "text": [
      "1\n",
      "3\n",
      "5\n",
      "7\n",
      "9\n"
     ]
    }
   ],
   "source": [
    "for i in range(1, 11):\n",
    "    if i % 2 == 0:\n",
    "        continue\n",
    "    print(i)"
   ]
  },
  {
   "cell_type": "markdown",
   "id": "6e4ef597",
   "metadata": {},
   "source": [
    "## 5. Nested Loops\n",
    "We can also put one loop inside another loop."
   ]
  },
  {
   "cell_type": "code",
   "execution_count": 12,
   "id": "03a72713",
   "metadata": {},
   "outputs": [
    {
     "name": "stdout",
     "output_type": "stream",
     "text": [
      "1 x 1 = 1\n",
      "1 x 2 = 2\n",
      "1 x 3 = 3\n",
      "1 x 4 = 4\n",
      "1 x 5 = 5\n",
      "------\n",
      "2 x 1 = 2\n",
      "2 x 2 = 4\n",
      "2 x 3 = 6\n",
      "2 x 4 = 8\n",
      "2 x 5 = 10\n",
      "------\n",
      "3 x 1 = 3\n",
      "3 x 2 = 6\n",
      "3 x 3 = 9\n",
      "3 x 4 = 12\n",
      "3 x 5 = 15\n",
      "------\n",
      "4 x 1 = 4\n",
      "4 x 2 = 8\n",
      "4 x 3 = 12\n",
      "4 x 4 = 16\n",
      "4 x 5 = 20\n",
      "------\n",
      "5 x 1 = 5\n",
      "5 x 2 = 10\n",
      "5 x 3 = 15\n",
      "5 x 4 = 20\n",
      "5 x 5 = 25\n",
      "------\n"
     ]
    }
   ],
   "source": [
    "for i in range(1, 6):\n",
    "    for j in range(1, 6):\n",
    "        print(f'{i} x {j} = {i*j}')\n",
    "    print('------')"
   ]
  },
  {
   "cell_type": "markdown",
   "id": "8de6d46e",
   "metadata": {},
   "source": [
    "## 6. Pattern Printing\n",
    "Example of printing a star pattern using loops."
   ]
  },
  {
   "cell_type": "code",
   "execution_count": 13,
   "id": "98988b9d",
   "metadata": {},
   "outputs": [
    {
     "name": "stdout",
     "output_type": "stream",
     "text": [
      "*\n",
      "**\n",
      "***\n",
      "****\n",
      "*****\n"
     ]
    }
   ],
   "source": [
    "rows = 5\n",
    "for i in range(1, rows+1):\n",
    "    print('*' * i)"
   ]
  },
  {
   "cell_type": "markdown",
   "id": "15586372",
   "metadata": {},
   "source": [
    "## 7. Example Program: Factorial using While Loop"
   ]
  },
  {
   "cell_type": "code",
   "execution_count": 14,
   "id": "5dd84a18",
   "metadata": {},
   "outputs": [
    {
     "name": "stdout",
     "output_type": "stream",
     "text": [
      "Factorial of 5 is 120\n"
     ]
    }
   ],
   "source": [
    "num = 5\n",
    "factorial = 1\n",
    "i = 1\n",
    "\n",
    "while i <= num:\n",
    "    factorial *= i\n",
    "    i += 1\n",
    "\n",
    "print('Factorial of', num, 'is', factorial)"
   ]
  }
 ],
 "metadata": {
  "kernelspec": {
   "display_name": "Python 3",
   "language": "python",
   "name": "python3"
  },
  "language_info": {
   "codemirror_mode": {
    "name": "ipython",
    "version": 3
   },
   "file_extension": ".py",
   "mimetype": "text/x-python",
   "name": "python",
   "nbconvert_exporter": "python",
   "pygments_lexer": "ipython3",
   "version": "3.13.3"
  }
 },
 "nbformat": 4,
 "nbformat_minor": 5
}
