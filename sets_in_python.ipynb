{
 "cells": [
  {
   "cell_type": "markdown",
   "id": "5c2ee317",
   "metadata": {},
   "source": [
    "# Sets in Python\n",
    "\n",
    "In this notebook, we will learn about **Sets** in Python.  \n",
    "Sets are a collection type that is **unordered, mutable, and does not allow duplicate elements**.\n"
   ]
  },
  {
   "cell_type": "markdown",
   "id": "0bbfb4e4",
   "metadata": {},
   "source": [
    "## 1. What is a Set?\n",
    "- A set is a collection of unique elements.\n",
    "- Sets are **unordered** (no indexing).\n",
    "- Sets are **mutable** (you can add/remove elements).\n",
    "- But elements inside a set must be **immutable** (e.g., numbers, strings, tuples)."
   ]
  },
  {
   "cell_type": "code",
   "execution_count": 1,
   "id": "434a1318",
   "metadata": {},
   "outputs": [
    {
     "name": "stdout",
     "output_type": "stream",
     "text": [
      "Set: {1, 2, 3, 4, 5}\n",
      "Set with duplicates removed: {1, 2, 3, 4}\n",
      "Mixed Set: {True, 10, 3.14, 'Hello'}\n"
     ]
    }
   ],
   "source": [
    "# Example: Creating a set\n",
    "my_set = {1, 2, 3, 4, 5}\n",
    "print(\"Set:\", my_set)\n",
    "\n",
    "# Duplicate values are removed\n",
    "dup_set = {1, 2, 2, 3, 4}\n",
    "print(\"Set with duplicates removed:\", dup_set)\n",
    "\n",
    "# Mixed data types\n",
    "mixed_set = {10, \"Hello\", 3.14, True}\n",
    "print(\"Mixed Set:\", mixed_set)"
   ]
  },
  {
   "cell_type": "markdown",
   "id": "8b6856f2",
   "metadata": {},
   "source": [
    "## 2. Creating Sets using `set()`\n",
    "We can also create sets using the built-in `set()` function."
   ]
  },
  {
   "cell_type": "code",
   "execution_count": 2,
   "id": "73466e5e",
   "metadata": {},
   "outputs": [
    {
     "name": "stdout",
     "output_type": "stream",
     "text": [
      "Set from list: {1, 2, 3, 4}\n",
      "Set from string: {'l', 'o', 'h', 'e'}\n"
     ]
    }
   ],
   "source": [
    "# Creating from a list\n",
    "list_data = [1, 2, 2, 3, 4]\n",
    "set_from_list = set(list_data)\n",
    "print(\"Set from list:\", set_from_list)\n",
    "\n",
    "# Creating from a string\n",
    "set_from_string = set(\"hello\")\n",
    "print(\"Set from string:\", set_from_string)"
   ]
  },
  {
   "cell_type": "markdown",
   "id": "e95cacb7",
   "metadata": {},
   "source": [
    "## 3. Adding and Removing Elements"
   ]
  },
  {
   "cell_type": "code",
   "execution_count": 3,
   "id": "c3ac5535",
   "metadata": {},
   "outputs": [
    {
     "name": "stdout",
     "output_type": "stream",
     "text": [
      "After add: {1, 2, 3, 4}\n",
      "After update: {1, 2, 3, 4, 5, 6, 7}\n",
      "After remove: {1, 2, 4, 5, 6, 7}\n",
      "After discard: {1, 2, 4, 5, 6, 7}\n",
      "After pop: {2, 4, 5, 6, 7} | Popped: 1\n"
     ]
    }
   ],
   "source": [
    "my_set = {1, 2, 3}\n",
    "\n",
    "# Add element\n",
    "my_set.add(4)\n",
    "print(\"After add:\", my_set)\n",
    "\n",
    "# Update (add multiple elements)\n",
    "my_set.update([5, 6, 7])\n",
    "print(\"After update:\", my_set)\n",
    "\n",
    "# Remove element (raises error if not present)\n",
    "my_set.remove(3)\n",
    "print(\"After remove:\", my_set)\n",
    "\n",
    "# Discard element (does not raise error if not present)\n",
    "my_set.discard(10)\n",
    "print(\"After discard:\", my_set)\n",
    "\n",
    "# Pop (removes a random element)\n",
    "popped = my_set.pop()\n",
    "print(\"After pop:\", my_set, \"| Popped:\", popped)"
   ]
  },
  {
   "cell_type": "markdown",
   "id": "f3a4833b",
   "metadata": {},
   "source": [
    "## 4. Set Operations\n",
    "Sets support mathematical operations like union, intersection, difference, and symmetric difference."
   ]
  },
  {
   "cell_type": "code",
   "execution_count": 4,
   "id": "aa042c35",
   "metadata": {},
   "outputs": [
    {
     "name": "stdout",
     "output_type": "stream",
     "text": [
      "A: {1, 2, 3, 4}\n",
      "B: {3, 4, 5, 6}\n",
      "Union: {1, 2, 3, 4, 5, 6}\n",
      "Intersection: {3, 4}\n",
      "Difference (A - B): {1, 2}\n",
      "Difference (B - A): {5, 6}\n",
      "Symmetric Difference: {1, 2, 5, 6}\n"
     ]
    }
   ],
   "source": [
    "A = {1, 2, 3, 4}\n",
    "B = {3, 4, 5, 6}\n",
    "\n",
    "print(\"A:\", A)\n",
    "print(\"B:\", B)\n",
    "\n",
    "print(\"Union:\", A | B)\n",
    "print(\"Intersection:\", A & B)\n",
    "print(\"Difference (A - B):\", A - B)\n",
    "print(\"Difference (B - A):\", B - A)\n",
    "print(\"Symmetric Difference:\", A ^ B)"
   ]
  },
  {
   "cell_type": "markdown",
   "id": "2f354423",
   "metadata": {},
   "source": [
    "## 5. Useful Set Functions"
   ]
  },
  {
   "cell_type": "code",
   "execution_count": 5,
   "id": "d6610d72",
   "metadata": {},
   "outputs": [
    {
     "name": "stdout",
     "output_type": "stream",
     "text": [
      "Length: 5\n",
      "Minimum: 1\n",
      "Maximum: 9\n",
      "Sum: 24\n",
      "Sorted: [1, 2, 5, 7, 9]\n"
     ]
    }
   ],
   "source": [
    "data = {5, 2, 9, 1, 7}\n",
    "print(\"Length:\", len(data))\n",
    "print(\"Minimum:\", min(data))\n",
    "print(\"Maximum:\", max(data))\n",
    "print(\"Sum:\", sum(data))\n",
    "print(\"Sorted:\", sorted(data))"
   ]
  },
  {
   "cell_type": "markdown",
   "id": "3546bc82",
   "metadata": {},
   "source": [
    "## 6. Frozen Sets\n",
    "Frozen sets are immutable versions of sets."
   ]
  },
  {
   "cell_type": "code",
   "execution_count": 6,
   "id": "cbab86fe",
   "metadata": {},
   "outputs": [
    {
     "name": "stdout",
     "output_type": "stream",
     "text": [
      "Frozen Set: frozenset({1, 2, 3, 4})\n",
      "Error: 'frozenset' object has no attribute 'add'\n"
     ]
    }
   ],
   "source": [
    "# Creating a frozen set\n",
    "frozen = frozenset([1, 2, 3, 4])\n",
    "print(\"Frozen Set:\", frozen)\n",
    "\n",
    "# Frozen sets do not allow modification\n",
    "try:\n",
    "    frozen.add(5)\n",
    "except AttributeError as e:\n",
    "    print(\"Error:\", e)"
   ]
  },
  {
   "cell_type": "markdown",
   "id": "20fa86aa",
   "metadata": {},
   "source": [
    "## Conclusion\n",
    "- Sets store unique elements and allow fast membership testing.\n",
    "- Useful for mathematical operations like union, intersection, and difference.\n",
    "- Frozen sets provide an immutable version of sets."
   ]
  }
 ],
 "metadata": {
  "kernelspec": {
   "display_name": "Python 3",
   "language": "python",
   "name": "python3"
  },
  "language_info": {
   "codemirror_mode": {
    "name": "ipython",
    "version": 3
   },
   "file_extension": ".py",
   "mimetype": "text/x-python",
   "name": "python",
   "nbconvert_exporter": "python",
   "pygments_lexer": "ipython3",
   "version": "3.13.3"
  }
 },
 "nbformat": 4,
 "nbformat_minor": 5
}
