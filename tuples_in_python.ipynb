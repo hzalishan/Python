{
 "cells": [
  {
   "cell_type": "markdown",
   "id": "95cf8ed5",
   "metadata": {},
   "source": [
    "# Tuples in Python\n",
    "\n",
    "In this notebook, we will learn about **Tuples** in Python.  \n",
    "Tuples are similar to lists, but they are **immutable** (cannot be changed after creation).  \n"
   ]
  },
  {
   "cell_type": "markdown",
   "id": "a943abef",
   "metadata": {},
   "source": [
    "## 1. What is a Tuple?\n",
    "- A tuple is a collection of items in Python.\n",
    "- Tuples are **ordered, immutable, and allow duplicates**.\n",
    "- Tuples can contain different data types."
   ]
  },
  {
   "cell_type": "code",
   "execution_count": 1,
   "id": "030ce5fb",
   "metadata": {},
   "outputs": [
    {
     "name": "stdout",
     "output_type": "stream",
     "text": [
      "Tuple: (1, 2, 3, 4, 5)\n",
      "Mixed Tuple: (10, 'Hello', 3.14, True)\n"
     ]
    }
   ],
   "source": [
    "# Example: Creating a tuple\n",
    "my_tuple = (1, 2, 3, 4, 5)\n",
    "print(\"Tuple:\", my_tuple)\n",
    "\n",
    "# Mixed data types\n",
    "mixed_tuple = (10, \"Hello\", 3.14, True)\n",
    "print(\"Mixed Tuple:\", mixed_tuple)"
   ]
  },
  {
   "cell_type": "markdown",
   "id": "3970b1c5",
   "metadata": {},
   "source": [
    "## 2. Indexing and Slicing\n",
    "We can access tuple elements using indexes and slicing (just like lists)."
   ]
  },
  {
   "cell_type": "code",
   "execution_count": 2,
   "id": "55de58e8",
   "metadata": {},
   "outputs": [
    {
     "name": "stdout",
     "output_type": "stream",
     "text": [
      "First element: 10\n",
      "Last element: 50\n",
      "Slice [1:4]: (20, 30, 40)\n"
     ]
    }
   ],
   "source": [
    "numbers = (10, 20, 30, 40, 50)\n",
    "print(\"First element:\", numbers[0])\n",
    "print(\"Last element:\", numbers[-1])\n",
    "\n",
    "# Slicing\n",
    "print(\"Slice [1:4]:\", numbers[1:4])"
   ]
  },
  {
   "cell_type": "markdown",
   "id": "82cbf40b",
   "metadata": {},
   "source": [
    "## 3. Immutability of Tuples\n",
    "Unlike lists, tuples cannot be modified after creation."
   ]
  },
  {
   "cell_type": "code",
   "execution_count": 3,
   "id": "38dfbd54",
   "metadata": {},
   "outputs": [
    {
     "name": "stdout",
     "output_type": "stream",
     "text": [
      "Error: 'tuple' object does not support item assignment\n"
     ]
    }
   ],
   "source": [
    "immutable_tuple = (1, 2, 3)\n",
    "# Trying to modify will cause an error\n",
    "try:\n",
    "    immutable_tuple[0] = 10\n",
    "except TypeError as e:\n",
    "    print(\"Error:\", e)"
   ]
  },
  {
   "cell_type": "markdown",
   "id": "a28f601e",
   "metadata": {},
   "source": [
    "## 4. Tuple Operations\n",
    "We can perform various operations on tuples."
   ]
  },
  {
   "cell_type": "code",
   "execution_count": 4,
   "id": "aca03f74",
   "metadata": {},
   "outputs": [
    {
     "name": "stdout",
     "output_type": "stream",
     "text": [
      "Concatenated Tuple: (1, 2, 3, 4, 5, 6)\n",
      "Repeated Tuple: (1, 2, 3, 1, 2, 3, 1, 2, 3)\n",
      "Is 2 in tuple1? True\n",
      "Is 10 in tuple1? False\n"
     ]
    }
   ],
   "source": [
    "# Concatenation\n",
    "tuple1 = (1, 2, 3)\n",
    "tuple2 = (4, 5, 6)\n",
    "result = tuple1 + tuple2\n",
    "print(\"Concatenated Tuple:\", result)\n",
    "\n",
    "# Repetition\n",
    "repeated = tuple1 * 3\n",
    "print(\"Repeated Tuple:\", repeated)\n",
    "\n",
    "# Membership test\n",
    "print(\"Is 2 in tuple1?\", 2 in tuple1)\n",
    "print(\"Is 10 in tuple1?\", 10 in tuple1)"
   ]
  },
  {
   "cell_type": "markdown",
   "id": "b77d6164",
   "metadata": {},
   "source": [
    "## 5. Tuple Functions\n",
    "Some useful built-in functions for tuples: `len()`, `min()`, `max()`, `sum()`, and `sorted()`."
   ]
  },
  {
   "cell_type": "code",
   "execution_count": 5,
   "id": "f666adfe",
   "metadata": {},
   "outputs": [
    {
     "name": "stdout",
     "output_type": "stream",
     "text": [
      "Length: 5\n",
      "Minimum: 1\n",
      "Maximum: 9\n",
      "Sum: 24\n",
      "Sorted (returns list): [1, 2, 5, 7, 9]\n"
     ]
    }
   ],
   "source": [
    "data = (5, 2, 9, 1, 7)\n",
    "print(\"Length:\", len(data))\n",
    "print(\"Minimum:\", min(data))\n",
    "print(\"Maximum:\", max(data))\n",
    "print(\"Sum:\", sum(data))\n",
    "print(\"Sorted (returns list):\", sorted(data))"
   ]
  },
  {
   "cell_type": "markdown",
   "id": "c2d17a26",
   "metadata": {},
   "source": [
    "## 6. Tuple Packing and Unpacking\n",
    "We can assign multiple values at once using tuples."
   ]
  },
  {
   "cell_type": "code",
   "execution_count": 6,
   "id": "1a3323fa",
   "metadata": {},
   "outputs": [
    {
     "name": "stdout",
     "output_type": "stream",
     "text": [
      "Name: Ali\n",
      "Age: 25\n",
      "City: Lahore\n"
     ]
    }
   ],
   "source": [
    "# Tuple packing\n",
    "person = (\"Ali\", 25, \"Lahore\")\n",
    "\n",
    "# Tuple unpacking\n",
    "name, age, city = person\n",
    "print(\"Name:\", name)\n",
    "print(\"Age:\", age)\n",
    "print(\"City:\", city)"
   ]
  },
  {
   "cell_type": "markdown",
   "id": "4e38cfe7",
   "metadata": {},
   "source": [
    "## 7. Nested Tuples\n",
    "Tuples can contain other tuples (like nested lists)."
   ]
  },
  {
   "cell_type": "code",
   "execution_count": 7,
   "id": "f88085fb",
   "metadata": {},
   "outputs": [
    {
     "name": "stdout",
     "output_type": "stream",
     "text": [
      "Nested Tuple: ((1, 2), (3, 4), (5, 6))\n",
      "Accessing element: 3\n"
     ]
    }
   ],
   "source": [
    "nested = ((1, 2), (3, 4), (5, 6))\n",
    "print(\"Nested Tuple:\", nested)\n",
    "print(\"Accessing element:\", nested[1][0])"
   ]
  },
  {
   "cell_type": "markdown",
   "id": "ec0bab4d",
   "metadata": {},
   "source": [
    "## Conclusion\n",
    "- Tuples are ordered and immutable collections in Python.\n",
    "- They are useful when you want to store fixed data.\n",
    "- Tuple packing/unpacking makes variable assignment easier."
   ]
  }
 ],
 "metadata": {
  "kernelspec": {
   "display_name": "Python 3",
   "language": "python",
   "name": "python3"
  },
  "language_info": {
   "codemirror_mode": {
    "name": "ipython",
    "version": 3
   },
   "file_extension": ".py",
   "mimetype": "text/x-python",
   "name": "python",
   "nbconvert_exporter": "python",
   "pygments_lexer": "ipython3",
   "version": "3.13.3"
  }
 },
 "nbformat": 4,
 "nbformat_minor": 5
}
